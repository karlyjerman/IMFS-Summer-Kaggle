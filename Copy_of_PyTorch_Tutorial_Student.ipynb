{
  "nbformat": 4,
  "nbformat_minor": 0,
  "metadata": {
    "colab": {
      "name": "Copy of PyTorch_Tutorial_Student.ipynb",
      "version": "0.3.2",
      "provenance": [],
      "collapsed_sections": [
        "uMOSiFdaF4YC",
        "yBSRVpsaF4YK",
        "11qZ4-PXF4YW",
        "xcuvbs2OF4YY",
        "4A4q9V8sF4Yb",
        "AB2iHOsSF4Yd",
        "w1GvK73mF4Yu",
        "l6o7Gum3F4Yy",
        "vaCXVBNuF4Yy",
        "vKFOTX7tF4Yz",
        "EHIKFp8CF4Y4",
        "4ItGP4ouF4Y6",
        "4jUqbWYPF4Y8",
        "JrA2AdquF4Y9",
        "MeZxm4-BF4Y_",
        "gvVair50F4ZB",
        "gGYp56Y2F4ZB",
        "p0PqUm6rF4ZF",
        "icUE_-_gF4ZI",
        "hD4E1iZHF4ZM",
        "oM2YQ-o-F4ZN",
        "CMYZ3nbaF4ZS"
      ],
      "include_colab_link": true
    },
    "kernelspec": {
      "name": "python3",
      "display_name": "Python 3"
    },
    "accelerator": "GPU"
  },
  "cells": [
    {
      "cell_type": "markdown",
      "metadata": {
        "id": "view-in-github",
        "colab_type": "text"
      },
      "source": [
        "<a href=\"https://colab.research.google.com/github/karlyjerman/IMFS-Summer-Kaggle/blob/master/Copy_of_PyTorch_Tutorial_Student.ipynb\" target=\"_parent\"><img src=\"https://colab.research.google.com/assets/colab-badge.svg\" alt=\"Open In Colab\"/></a>"
      ]
    },
    {
      "metadata": {
        "id": "r20w3P0wF4WO",
        "colab_type": "text"
      },
      "cell_type": "markdown",
      "source": [
        "# Introduction to PyTorch - ODSC West 2018\n",
        "\n",
        "## Robert Alvarez - Senior Data Scientist at Metis\n",
        "\n",
        "\n",
        "![](http://community.datacamp.com.s3.amazonaws.com/community/production/ckeditor_assets/pictures/248/content_odsc.png)\n",
        "\n",
        "![](https://devblogs.nvidia.com/wp-content/uploads/2017/04/pytorch-logo-dark.png)"
      ]
    },
    {
      "metadata": {
        "id": "buDohrG1F4WP",
        "colab_type": "text"
      },
      "cell_type": "markdown",
      "source": [
        "# Installing PyTorch (on Google Server)\n",
        "\n",
        "Go to https://colab.research.google.com and sign in with your Google account. If you do not have a Google account you can create one. From there you can create a new notebook."
      ]
    },
    {
      "metadata": {
        "id": "ousUWf7oF4WP",
        "colab_type": "code",
        "outputId": "1a5fd7d7-4265-41c8-b0d2-cc59674a7060",
        "colab": {
          "base_uri": "https://localhost:8080/",
          "height": 139
        }
      },
      "cell_type": "code",
      "source": [
        "# http://pytorch.org/\n",
        "from os.path import exists\n",
        "from wheel.pep425tags import get_abbr_impl, get_impl_ver, get_abi_tag\n",
        "platform = '{}{}-{}'.format(get_abbr_impl(), get_impl_ver(), get_abi_tag())\n",
        "cuda_output = !ldconfig -p|grep cudart.so|sed -e 's/.*\\.\\([0-9]*\\)\\.\\([0-9]*\\)$/cu\\1\\2/'\n",
        "accelerator = cuda_output[0] if exists('/dev/nvidia0') else 'cpu'\n",
        "\n",
        "!pip install --no-cache-dir -I pillow\n",
        "!pip install unidecode\n",
        "\n",
        "!pip install -q http://download.pytorch.org/whl/{accelerator}/torch-0.4.1-{platform}-linux_x86_64.whl torchvision"
      ],
      "execution_count": 1,
      "outputs": [
        {
          "output_type": "stream",
          "text": [
            "Collecting pillow\n",
            "\u001b[?25l  Downloading https://files.pythonhosted.org/packages/62/94/5430ebaa83f91cc7a9f687ff5238e26164a779cca2ef9903232268b0a318/Pillow-5.3.0-cp36-cp36m-manylinux1_x86_64.whl (2.0MB)\n",
            "\u001b[K    100% |████████████████████████████████| 2.0MB 9.3MB/s \n",
            "\u001b[?25hInstalling collected packages: pillow\n",
            "Successfully installed pillow-5.3.0\n",
            "Requirement already satisfied: unidecode in /usr/local/lib/python3.6/dist-packages (1.0.22)\n"
          ],
          "name": "stdout"
        }
      ]
    },
    {
      "metadata": {
        "id": "PHtYGNSQF4WT",
        "colab_type": "code",
        "outputId": "fb82dde7-9857-4d2a-e021-8e50d3cfd991",
        "colab": {
          "base_uri": "https://localhost:8080/",
          "height": 17
        }
      },
      "cell_type": "code",
      "source": [
        "# usual suspects\n",
        "import os\n",
        "import time\n",
        "import shutil\n",
        "import requests\n",
        "import zipfile\n",
        "from PIL import Image\n",
        "\n",
        "import numpy as np\n",
        "import pandas as pd\n",
        "from cycler import cycler\n",
        "\n",
        "# the good stuff\n",
        "import torch\n",
        "import torch.nn as nn\n",
        "from torch.autograd import Variable\n",
        "import torch.nn.functional as F\n",
        "from torch.utils.data import Dataset, DataLoader\n",
        "import torchvision\n",
        "from torchvision import datasets, models, transforms\n",
        "\n",
        "# standard sklearn import\n",
        "from sklearn.metrics import accuracy_score\n",
        "\n",
        "# minor changes to plotting functions\n",
        "import matplotlib.pyplot as plt\n",
        "cmap=plt.cm.tab10\n",
        "c = cycler('color', cmap(np.linspace(0,1,10)))\n",
        "plt.rcParams[\"axes.prop_cycle\"] = c\n",
        "\n",
        "\n",
        "%matplotlib inline\n",
        "\n",
        "# change margin size of jupyter notebook\n",
        "from IPython.core.display import display, HTML\n",
        "display(HTML(\"<style>.container { width:95% !important; }</style>\"))\n"
      ],
      "execution_count": 2,
      "outputs": [
        {
          "output_type": "display_data",
          "data": {
            "text/html": [
              "<style>.container { width:95% !important; }</style>"
            ],
            "text/plain": [
              "<IPython.core.display.HTML object>"
            ]
          },
          "metadata": {
            "tags": []
          }
        }
      ]
    },
    {
      "metadata": {
        "id": "3fV3qkClF4WW",
        "colab_type": "code",
        "colab": {}
      },
      "cell_type": "code",
      "source": [
        "# Download all necessary files for the live tutorial\n",
        "# Post ODSC pull from GitHub Repo github.com/robert-alvarez\n",
        "\n",
        "data_url = 'https://www.dropbox.com/s/dbb0sf9d3r6rymo/odsc_pytorch_data_with_model.zip?dl=1'\n",
        "\n",
        "if not os.path.exists('data'):\n",
        "    # Download the data zip file.\n",
        "    response = requests.get(data_url, stream=True)\n",
        "    zip_path = 'odsc_pytorch_data.zip'\n",
        "    with open(zip_path, 'wb') as f:\n",
        "        shutil.copyfileobj(response.raw, f)\n",
        "    # Unzip the file.\n",
        "    with zipfile.ZipFile(zip_path, 'r') as z:\n",
        "        z.extractall()\n",
        "    # Move files.\n",
        "    shutil.move('odsc_pytorch_data/data', 'data')\n",
        "    shutil.move('odsc_pytorch_data/fashionmnist', 'fashionmnist')\n",
        "    # Clean up.\n",
        "    shutil.rmtree('__MACOSX')\n",
        "    shutil.rmtree(zip_path[:-4])\n",
        "    os.remove(zip_path)"
      ],
      "execution_count": 0,
      "outputs": []
    },
    {
      "metadata": {
        "id": "qp3Y9zC_HzPZ",
        "colab_type": "code",
        "outputId": "de62ab30-5546-4345-83ba-f62b1248e958",
        "colab": {
          "base_uri": "https://localhost:8080/",
          "height": 34
        }
      },
      "cell_type": "code",
      "source": [
        "!ls"
      ],
      "execution_count": 4,
      "outputs": [
        {
          "output_type": "stream",
          "text": [
            "data  fashionmnist  sample_data\n"
          ],
          "name": "stdout"
        }
      ]
    },
    {
      "metadata": {
        "id": "59It8gpiF4WY",
        "colab_type": "text"
      },
      "cell_type": "markdown",
      "source": [
        "# PyTorch\n",
        "\n",
        "What is PyTorch?\n",
        "\n",
        "* It is a replacement for NumPy to use GPUs\n",
        "* A deep learning platform built for flexibility and speed\n",
        "\n",
        "\n",
        "## Tensor Overview\n",
        "What are tensors?\n",
        "\n",
        "Tensors are similar to NumPy's `ndarrays`\n",
        "\n",
        "We normally think of tensors as a generalization of matrices. In fact, matrices are 2-D tensors!\n",
        "\n",
        "![](https://image.slidesharecdn.com/tensordecomposition-170301235239/95/a-brief-survey-of-tensors-5-638.jpg?cb=1488412458)\n",
        "\n",
        "Here is a great visualization of tensors from 1-D to 5-D\n",
        "\n",
        "![](https://cdn-images-1.medium.com/max/2000/1*_D5ZvufDS38WkhK9rK32hQ.jpeg)\n",
        "\n",
        "As mentioned before, since tensors are generalizations of matrices, we should be able to create them in similar ways. We can also expect *most* operations to stay the same. In particular, addition of tensors is the same as for matrices. Multiplication is a bit different, but we won't have to concern ourselves with that in this lecture."
      ]
    },
    {
      "metadata": {
        "id": "wt2-GPWsF4WZ",
        "colab_type": "text"
      },
      "cell_type": "markdown",
      "source": [
        "### Tensor Types\n",
        "\n",
        "Torch defines eight CPU tensor types and eight GPU tensor types:\n",
        "\n",
        "| Data type                | dtype                             | CPU Tensor           | GPU Tensor                |\n",
        "|--------------------------|-----------------------------------|----------------------|---------------------------|\n",
        "| 32-bit floating point    | `torch.float32` or `torch.float`  | `torch.FloatTensor`  | `torch.cuda.FloatTensor`  |\n",
        "| 64-bit floating point    | `torch.float64` or `torch.double` | `torch.DoubleTensor` | `torch.cuda.DoubleTensor` |\n",
        "| 16-bit floating point    | `torch.float16` or `torch.half`   | `torch.HalfTensor`   | `torch.cuda.HalfTensor`   |\n",
        "| 8-bit integer (unsigned) | `torch.uint8`                     | `torch.ByteTensor`   | `torch.cuda.ByteTensor`   |\n",
        "| 8-bit integer (signed)   | `torch.int8`                      | `torch.CharTensor`   | `torch.cuda.CharTensor`   |\n",
        "| 16-bit integer (signed)  | `torch.int16` or `torch.short`    | `torch.ShortTensor`  | `torch.cuda.ShortTensor`  |\n",
        "| 32-bit integer (signed)  | `torch.int32` or `torch.int`      | `torch.IntTensor`    | `torch.cuda.IntTensor`    |\n",
        "| 64-bit integer (signed)  | `torch.int64` or `torch.long`     | `torch.LongTensor`   | `torch.cuda.LongTensor`   |\n",
        "\n",
        "**Note**: Tensor types need to match when doing calculations with them."
      ]
    },
    {
      "metadata": {
        "id": "cmKBZrbjF4Wb",
        "colab_type": "text"
      },
      "cell_type": "markdown",
      "source": [
        "### Numpy ndarrays vs PyTorch Tensors\n",
        "\n",
        "Let's look at the differences between these two common methods of handling arrays. "
      ]
    },
    {
      "metadata": {
        "id": "j37kfEBoF4Wc",
        "colab_type": "code",
        "outputId": "243da0da-bec9-4715-e4ac-7a63d807d9db",
        "colab": {
          "base_uri": "https://localhost:8080/",
          "height": 238
        }
      },
      "cell_type": "code",
      "source": [
        "# In numpy, we create tensors (arrays) in the following way\n",
        "x1 = np.random.rand(5,3)\n",
        "print(f\"x1 =\\n {x1}\\n\")\n",
        "\n",
        "# Similar to numpy we can create random tensors\n",
        "t1 = torch.rand(5,3, dtype=torch.float64)\n",
        "print(f\"t1 =\\n {t1}\")"
      ],
      "execution_count": 5,
      "outputs": [
        {
          "output_type": "stream",
          "text": [
            "x1 =\n",
            " [[0.20364877 0.74298409 0.96700002]\n",
            " [0.84528057 0.39095302 0.66858728]\n",
            " [0.50898456 0.81269528 0.6155952 ]\n",
            " [0.33497482 0.10682906 0.14098398]\n",
            " [0.95293779 0.12515395 0.19397763]]\n",
            "\n",
            "t1 =\n",
            " tensor([[0.7990, 0.5257, 0.1455],\n",
            "        [0.1549, 0.0290, 0.3978],\n",
            "        [0.6007, 0.9926, 0.3806],\n",
            "        [0.0231, 0.9590, 0.3822],\n",
            "        [0.3584, 0.7487, 0.6091]], dtype=torch.float64)\n"
          ],
          "name": "stdout"
        }
      ]
    },
    {
      "metadata": {
        "id": "R9ufUqN4F4We",
        "colab_type": "code",
        "outputId": "5aeefdba-576c-4e0e-e809-a6326feaedc6",
        "colab": {
          "base_uri": "https://localhost:8080/",
          "height": 51
        }
      },
      "cell_type": "code",
      "source": [
        "# check the type\n",
        "print(f\"t1 is a {type(t1)}\")\n",
        "print(f\"x1 is a {type(x1)}\")"
      ],
      "execution_count": 6,
      "outputs": [
        {
          "output_type": "stream",
          "text": [
            "t1 is a <class 'torch.Tensor'>\n",
            "x1 is a <class 'numpy.ndarray'>\n"
          ],
          "name": "stdout"
        }
      ]
    },
    {
      "metadata": {
        "id": "FH5C5mEtF4Wi",
        "colab_type": "code",
        "outputId": "3e6c4172-e4de-4b24-e590-23edda877759",
        "colab": {
          "base_uri": "https://localhost:8080/",
          "height": 51
        }
      },
      "cell_type": "code",
      "source": [
        "print(f\"t1 is dtype {t1.dtype}\")\n",
        "print(f\"x1 is dtype {x1.dtype}\")"
      ],
      "execution_count": 7,
      "outputs": [
        {
          "output_type": "stream",
          "text": [
            "t1 is dtype torch.float64\n",
            "x1 is dtype float64\n"
          ],
          "name": "stdout"
        }
      ]
    },
    {
      "metadata": {
        "id": "DR7KCD39F4Wl",
        "colab_type": "code",
        "outputId": "8bb9cad1-63dc-40e6-b364-6e8027517c71",
        "colab": {
          "base_uri": "https://localhost:8080/",
          "height": 306
        }
      },
      "cell_type": "code",
      "source": [
        "# create a 3-D tensor in torch and numpy\n",
        "t2 = torch.rand(2, 3, 5) # first is how many arrays I want and the later two fields are the size\n",
        "print(f\"t2 =\\n {t2}\\n\")\n",
        "\n",
        "x2 = np.random.rand(2, 3, 5)\n",
        "print(f\"x2 =\\n {x2}\")"
      ],
      "execution_count": 8,
      "outputs": [
        {
          "output_type": "stream",
          "text": [
            "t2 =\n",
            " tensor([[[0.5643, 0.8569, 0.5403, 0.7119, 0.2329],\n",
            "         [0.6588, 0.6509, 0.8727, 0.7104, 0.4615],\n",
            "         [0.0208, 0.6308, 0.8416, 0.5067, 0.2553]],\n",
            "\n",
            "        [[0.6024, 0.0456, 0.2746, 0.3965, 0.0722],\n",
            "         [0.4155, 0.7892, 0.9030, 0.4756, 0.4386],\n",
            "         [0.5042, 0.4689, 0.9820, 0.6350, 0.4463]]])\n",
            "\n",
            "x2 =\n",
            " [[[0.88584817 0.37365921 0.51414374 0.20426782 0.23526041]\n",
            "  [0.07554486 0.52388662 0.78275957 0.04928737 0.0581099 ]\n",
            "  [0.84049242 0.03901867 0.57177618 0.83676623 0.29196086]]\n",
            "\n",
            " [[0.28516281 0.20003764 0.64158124 0.53325965 0.57992001]\n",
            "  [0.70564992 0.78590104 0.64169111 0.83782777 0.650275  ]\n",
            "  [0.27338939 0.05394239 0.20069068 0.36285395 0.45605154]]]\n"
          ],
          "name": "stdout"
        }
      ]
    },
    {
      "metadata": {
        "id": "iatUaw2pF4Wo",
        "colab_type": "code",
        "colab": {
          "base_uri": "https://localhost:8080/",
          "height": 119
        },
        "outputId": "5da9c4f3-9ac8-4006-a085-5250de50b67f"
      },
      "cell_type": "code",
      "source": [
        "long_tensor = torch.zeros(5,3, dtype=torch.long)\n",
        "print(long_tensor)\n",
        "print(long_tensor.dtype)"
      ],
      "execution_count": 9,
      "outputs": [
        {
          "output_type": "stream",
          "text": [
            "tensor([[0, 0, 0],\n",
            "        [0, 0, 0],\n",
            "        [0, 0, 0],\n",
            "        [0, 0, 0],\n",
            "        [0, 0, 0]])\n",
            "torch.int64\n"
          ],
          "name": "stdout"
        }
      ]
    },
    {
      "metadata": {
        "id": "EhHxb4SCF4Wr",
        "colab_type": "code",
        "colab": {
          "base_uri": "https://localhost:8080/",
          "height": 119
        },
        "outputId": "40dadb53-89f0-4abd-e9c3-80e65a940b16"
      },
      "cell_type": "code",
      "source": [
        "float_tensor = torch.zeros(5,3, dtype=torch.float64)\n",
        "print(float_tensor)\n",
        "print(float_tensor.dtype)"
      ],
      "execution_count": 10,
      "outputs": [
        {
          "output_type": "stream",
          "text": [
            "tensor([[0., 0., 0.],\n",
            "        [0., 0., 0.],\n",
            "        [0., 0., 0.],\n",
            "        [0., 0., 0.],\n",
            "        [0., 0., 0.]], dtype=torch.float64)\n",
            "torch.float64\n"
          ],
          "name": "stdout"
        }
      ]
    },
    {
      "metadata": {
        "id": "GvsezGJFF4Wu",
        "colab_type": "code",
        "colab": {
          "base_uri": "https://localhost:8080/",
          "height": 164
        },
        "outputId": "9a2e0312-024a-4c61-b83d-ca113771f4ef"
      },
      "cell_type": "code",
      "source": [
        "long_tensor + float_tensor"
      ],
      "execution_count": 11,
      "outputs": [
        {
          "output_type": "error",
          "ename": "RuntimeError",
          "evalue": "ignored",
          "traceback": [
            "\u001b[0;31m---------------------------------------------------------------------------\u001b[0m",
            "\u001b[0;31mRuntimeError\u001b[0m                              Traceback (most recent call last)",
            "\u001b[0;32m<ipython-input-11-65e2d9a94520>\u001b[0m in \u001b[0;36m<module>\u001b[0;34m()\u001b[0m\n\u001b[0;32m----> 1\u001b[0;31m \u001b[0mlong_tensor\u001b[0m \u001b[0;34m+\u001b[0m \u001b[0mfloat_tensor\u001b[0m\u001b[0;34m\u001b[0m\u001b[0m\n\u001b[0m",
            "\u001b[0;31mRuntimeError\u001b[0m: Expected object of type torch.LongTensor but found type torch.DoubleTensor for argument #3 'other'"
          ]
        }
      ]
    },
    {
      "metadata": {
        "id": "p_ixznbZF4Ww",
        "colab_type": "code",
        "colab": {
          "base_uri": "https://localhost:8080/",
          "height": 164
        },
        "outputId": "41ea74e3-faf9-4e06-b476-a582785640b6"
      },
      "cell_type": "code",
      "source": [
        "float_tensor + long_tensor"
      ],
      "execution_count": 12,
      "outputs": [
        {
          "output_type": "error",
          "ename": "RuntimeError",
          "evalue": "ignored",
          "traceback": [
            "\u001b[0;31m---------------------------------------------------------------------------\u001b[0m",
            "\u001b[0;31mRuntimeError\u001b[0m                              Traceback (most recent call last)",
            "\u001b[0;32m<ipython-input-12-3afb31be9384>\u001b[0m in \u001b[0;36m<module>\u001b[0;34m()\u001b[0m\n\u001b[0;32m----> 1\u001b[0;31m \u001b[0mfloat_tensor\u001b[0m \u001b[0;34m+\u001b[0m \u001b[0mlong_tensor\u001b[0m\u001b[0;34m\u001b[0m\u001b[0m\n\u001b[0m",
            "\u001b[0;31mRuntimeError\u001b[0m: Expected object of type torch.DoubleTensor but found type torch.LongTensor for argument #3 'other'"
          ]
        }
      ]
    },
    {
      "metadata": {
        "id": "8nseuf8LF4Wz",
        "colab_type": "code",
        "colab": {
          "base_uri": "https://localhost:8080/",
          "height": 34
        },
        "outputId": "a2354032-c6d7-450b-94f1-25051a6412a6"
      },
      "cell_type": "code",
      "source": [
        "# we can also create explicit tensors\n",
        "x = torch.tensor([2., 3])\n",
        "x"
      ],
      "execution_count": 13,
      "outputs": [
        {
          "output_type": "execute_result",
          "data": {
            "text/plain": [
              "tensor([2., 3.])"
            ]
          },
          "metadata": {
            "tags": []
          },
          "execution_count": 13
        }
      ]
    },
    {
      "metadata": {
        "id": "4an_jWLPF4W1",
        "colab_type": "code",
        "colab": {
          "base_uri": "https://localhost:8080/",
          "height": 102
        },
        "outputId": "16d8d0fc-397d-4abc-ee5d-6c7b3dffd9f6"
      },
      "cell_type": "code",
      "source": [
        "# this method creates a new tensor \"y\" that has the same properties (e.g. dtype) as the original tensor \"x\"\n",
        "y = x.new_ones(5,3)\n",
        "print(y)"
      ],
      "execution_count": 14,
      "outputs": [
        {
          "output_type": "stream",
          "text": [
            "tensor([[1., 1., 1.],\n",
            "        [1., 1., 1.],\n",
            "        [1., 1., 1.],\n",
            "        [1., 1., 1.],\n",
            "        [1., 1., 1.]])\n"
          ],
          "name": "stdout"
        }
      ]
    },
    {
      "metadata": {
        "id": "6rNLirOfF4W4",
        "colab_type": "code",
        "colab": {
          "base_uri": "https://localhost:8080/",
          "height": 34
        },
        "outputId": "84577e75-8feb-46a4-979f-4b67db8746e8"
      },
      "cell_type": "code",
      "source": [
        "# there's a size method as well\n",
        "y.size()"
      ],
      "execution_count": 15,
      "outputs": [
        {
          "output_type": "execute_result",
          "data": {
            "text/plain": [
              "torch.Size([5, 3])"
            ]
          },
          "metadata": {
            "tags": []
          },
          "execution_count": 15
        }
      ]
    },
    {
      "metadata": {
        "id": "DTWwuM_LF4W6",
        "colab_type": "code",
        "colab": {
          "base_uri": "https://localhost:8080/",
          "height": 102
        },
        "outputId": "191bd84d-6274-48c3-eca6-b11363efefd5"
      },
      "cell_type": "code",
      "source": [
        "# We can add tensors as well in the usual way you expect\n",
        "x = torch.rand(5,3)\n",
        "x + y"
      ],
      "execution_count": 16,
      "outputs": [
        {
          "output_type": "execute_result",
          "data": {
            "text/plain": [
              "tensor([[1.9959, 1.4949, 1.2392],\n",
              "        [1.7235, 1.9920, 1.8305],\n",
              "        [1.9973, 1.5868, 1.4598],\n",
              "        [1.7328, 1.4975, 1.6981],\n",
              "        [1.1270, 1.6100, 1.9639]])"
            ]
          },
          "metadata": {
            "tags": []
          },
          "execution_count": 16
        }
      ]
    },
    {
      "metadata": {
        "id": "kdl50w7EF4W9",
        "colab_type": "code",
        "colab": {
          "base_uri": "https://localhost:8080/",
          "height": 102
        },
        "outputId": "5ecfd31d-b681-4c71-a4ea-218823a6f34c"
      },
      "cell_type": "code",
      "source": [
        "# We can also add like this\n",
        "torch.add(x, y)"
      ],
      "execution_count": 17,
      "outputs": [
        {
          "output_type": "execute_result",
          "data": {
            "text/plain": [
              "tensor([[1.9959, 1.4949, 1.2392],\n",
              "        [1.7235, 1.9920, 1.8305],\n",
              "        [1.9973, 1.5868, 1.4598],\n",
              "        [1.7328, 1.4975, 1.6981],\n",
              "        [1.1270, 1.6100, 1.9639]])"
            ]
          },
          "metadata": {
            "tags": []
          },
          "execution_count": 17
        }
      ]
    },
    {
      "metadata": {
        "id": "nkwyZU6FF4W_",
        "colab_type": "code",
        "colab": {
          "base_uri": "https://localhost:8080/",
          "height": 102
        },
        "outputId": "83b2d42b-4a49-41f2-f66f-7af1613075e4"
      },
      "cell_type": "code",
      "source": [
        "# OR like this!\n",
        "# The `*_` method works just like `inplace=True` in pandas\n",
        "y.add_(x)  # the underscore method overwrites the value of y and adds x. without the underscore just does a normal add"
      ],
      "execution_count": 18,
      "outputs": [
        {
          "output_type": "execute_result",
          "data": {
            "text/plain": [
              "tensor([[1.9959, 1.4949, 1.2392],\n",
              "        [1.7235, 1.9920, 1.8305],\n",
              "        [1.9973, 1.5868, 1.4598],\n",
              "        [1.7328, 1.4975, 1.6981],\n",
              "        [1.1270, 1.6100, 1.9639]])"
            ]
          },
          "metadata": {
            "tags": []
          },
          "execution_count": 18
        }
      ]
    },
    {
      "metadata": {
        "id": "hf6rxffgF4XC",
        "colab_type": "code",
        "colab": {
          "base_uri": "https://localhost:8080/",
          "height": 102
        },
        "outputId": "96224671-bf86-4050-ff0b-81698a1d8904"
      },
      "cell_type": "code",
      "source": [
        "# see!\n",
        "y"
      ],
      "execution_count": 19,
      "outputs": [
        {
          "output_type": "execute_result",
          "data": {
            "text/plain": [
              "tensor([[1.9959, 1.4949, 1.2392],\n",
              "        [1.7235, 1.9920, 1.8305],\n",
              "        [1.9973, 1.5868, 1.4598],\n",
              "        [1.7328, 1.4975, 1.6981],\n",
              "        [1.1270, 1.6100, 1.9639]])"
            ]
          },
          "metadata": {
            "tags": []
          },
          "execution_count": 19
        }
      ]
    },
    {
      "metadata": {
        "id": "iSd9rR37F4XE",
        "colab_type": "code",
        "colab": {
          "base_uri": "https://localhost:8080/",
          "height": 34
        },
        "outputId": "d5810e50-1fe8-4d85-a308-97246f346bba"
      },
      "cell_type": "code",
      "source": [
        "# Indexing works just like in numpy\n",
        "y[:, 1]"
      ],
      "execution_count": 20,
      "outputs": [
        {
          "output_type": "execute_result",
          "data": {
            "text/plain": [
              "tensor([1.4949, 1.9920, 1.5868, 1.4975, 1.6100])"
            ]
          },
          "metadata": {
            "tags": []
          },
          "execution_count": 20
        }
      ]
    },
    {
      "metadata": {
        "id": "KnaRvjBdF4XG",
        "colab_type": "code",
        "colab": {
          "base_uri": "https://localhost:8080/",
          "height": 34
        },
        "outputId": "f57342d3-4e4f-419b-a9df-f57e8217c8a4"
      },
      "cell_type": "code",
      "source": [
        "# We can reshape tensors as well though it's called \"view\" in pytorch\n",
        "x = torch.randn(4,4)\n",
        "y = x.view(16)\n",
        "z = x.view(-1, 8)\n",
        "print(x.size(), y.size(), z.size())"
      ],
      "execution_count": 21,
      "outputs": [
        {
          "output_type": "stream",
          "text": [
            "torch.Size([4, 4]) torch.Size([16]) torch.Size([2, 8])\n"
          ],
          "name": "stdout"
        }
      ]
    },
    {
      "metadata": {
        "id": "RRu8mHL4F4XI",
        "colab_type": "text"
      },
      "cell_type": "markdown",
      "source": [
        "More on torch operations can be found here: https://pytorch.org/docs/stable/torch.html#math-operations"
      ]
    },
    {
      "metadata": {
        "id": "BngYJEHAF4XJ",
        "colab_type": "code",
        "colab": {
          "base_uri": "https://localhost:8080/",
          "height": 34
        },
        "outputId": "4525eaf9-3261-430e-bbc7-baf1dedf05c4"
      },
      "cell_type": "code",
      "source": [
        "# Converting to/from PyTorch & NumPy is easy\n",
        "a = torch.ones(5)\n",
        "a"
      ],
      "execution_count": 22,
      "outputs": [
        {
          "output_type": "execute_result",
          "data": {
            "text/plain": [
              "tensor([1., 1., 1., 1., 1.])"
            ]
          },
          "metadata": {
            "tags": []
          },
          "execution_count": 22
        }
      ]
    },
    {
      "metadata": {
        "id": "lm7PAqy8F4XK",
        "colab_type": "code",
        "colab": {
          "base_uri": "https://localhost:8080/",
          "height": 34
        },
        "outputId": "b38b7b0a-9d7d-4e59-d7e9-7ffe8285fb63"
      },
      "cell_type": "code",
      "source": [
        "# convert to numpy\n",
        "b = a.numpy()\n",
        "b"
      ],
      "execution_count": 23,
      "outputs": [
        {
          "output_type": "execute_result",
          "data": {
            "text/plain": [
              "array([1., 1., 1., 1., 1.], dtype=float32)"
            ]
          },
          "metadata": {
            "tags": []
          },
          "execution_count": 23
        }
      ]
    },
    {
      "metadata": {
        "id": "FmuEIg58F4XN",
        "colab_type": "code",
        "colab": {
          "base_uri": "https://localhost:8080/",
          "height": 51
        },
        "outputId": "0454b804-42d7-44a4-e974-c72b69401abe"
      },
      "cell_type": "code",
      "source": [
        "# what do we expect this result to be?\n",
        "a.add_(1)\n",
        "print(a)\n",
        "print(b)\n",
        "\n",
        "# b is a pointer to a. this is why when you change a, b changes as well. you could make a copy instead if you do not want it to be a pointer"
      ],
      "execution_count": 24,
      "outputs": [
        {
          "output_type": "stream",
          "text": [
            "tensor([2., 2., 2., 2., 2.])\n",
            "[2. 2. 2. 2. 2.]\n"
          ],
          "name": "stdout"
        }
      ]
    },
    {
      "metadata": {
        "id": "0f6BFf2IF4XP",
        "colab_type": "code",
        "colab": {
          "base_uri": "https://localhost:8080/",
          "height": 153
        },
        "outputId": "3234f217-ee56-4ec6-b559-54ba91347545"
      },
      "cell_type": "code",
      "source": [
        "# Convert from numpy to torch\n",
        "c = np.random.randn(4,5)\n",
        "print(c)\n",
        "d = torch.from_numpy(c)\n",
        "print(d)"
      ],
      "execution_count": 25,
      "outputs": [
        {
          "output_type": "stream",
          "text": [
            "[[-1.43144133  1.55953245  0.62511162 -0.46640178 -1.87977682]\n",
            " [-0.69288368 -1.10079421  0.23108826 -1.09012441  0.21208954]\n",
            " [ 0.23504262  0.96351817  0.20331469  0.27989765 -0.29854953]\n",
            " [-0.57389858  0.59574427 -1.04865745 -0.48830288  0.3618687 ]]\n",
            "tensor([[-1.4314,  1.5595,  0.6251, -0.4664, -1.8798],\n",
            "        [-0.6929, -1.1008,  0.2311, -1.0901,  0.2121],\n",
            "        [ 0.2350,  0.9635,  0.2033,  0.2799, -0.2985],\n",
            "        [-0.5739,  0.5957, -1.0487, -0.4883,  0.3619]], dtype=torch.float64)\n"
          ],
          "name": "stdout"
        }
      ]
    },
    {
      "metadata": {
        "id": "p_Kzsz-wF4XR",
        "colab_type": "text"
      },
      "cell_type": "markdown",
      "source": [
        "## Autograd - AKA why PyTorch is awesome\n",
        "\n",
        "Central to all Neural Networks in PyTorch is the `autograd` package. \n",
        "\n",
        "The `autograd` package provides automatic differentiation for all operations on Tensors. It is a define-by-run framework, \n",
        "which means that your backprop is defined by how your code is run, and that every single iteration can be different.\n",
        "\n",
        "Let's look at a basic example of this before returning to our Neural Networks again."
      ]
    },
    {
      "metadata": {
        "id": "VvhhqezFF4XS",
        "colab_type": "code",
        "colab": {
          "base_uri": "https://localhost:8080/",
          "height": 51
        },
        "outputId": "270e41f0-1246-4380-b2ad-939c1a21cf01"
      },
      "cell_type": "code",
      "source": [
        "# Create a tensor and set requires_grade=True to track computation with it\n",
        "x = torch.ones(2,2, requires_grad=True)\n",
        "print(x)"
      ],
      "execution_count": 26,
      "outputs": [
        {
          "output_type": "stream",
          "text": [
            "tensor([[1., 1.],\n",
            "        [1., 1.]], requires_grad=True)\n"
          ],
          "name": "stdout"
        }
      ]
    },
    {
      "metadata": {
        "id": "25AkarWiF4XU",
        "colab_type": "code",
        "colab": {
          "base_uri": "https://localhost:8080/",
          "height": 51
        },
        "outputId": "df89fc01-e8c0-41fa-e86f-199a9f4f578e"
      },
      "cell_type": "code",
      "source": [
        "# Do some operation on said tensor\n",
        "y = 3*x + 7\n",
        "print(y)"
      ],
      "execution_count": 27,
      "outputs": [
        {
          "output_type": "stream",
          "text": [
            "tensor([[10., 10.],\n",
            "        [10., 10.]], grad_fn=<AddBackward>)\n"
          ],
          "name": "stdout"
        }
      ]
    },
    {
      "metadata": {
        "id": "s-3AN_ZxF4XW",
        "colab_type": "code",
        "colab": {
          "base_uri": "https://localhost:8080/",
          "height": 34
        },
        "outputId": "7120aeb3-0901-497f-b07d-de525f5b6033"
      },
      "cell_type": "code",
      "source": [
        "# Because y was created as a result of an operation, it now has a grad_fn method\n",
        "y.grad_fn"
      ],
      "execution_count": 28,
      "outputs": [
        {
          "output_type": "execute_result",
          "data": {
            "text/plain": [
              "<AddBackward at 0x7fd8c4bbd748>"
            ]
          },
          "metadata": {
            "tags": []
          },
          "execution_count": 28
        }
      ]
    },
    {
      "metadata": {
        "id": "QRy0p_pjF4XZ",
        "colab_type": "code",
        "colab": {
          "base_uri": "https://localhost:8080/",
          "height": 51
        },
        "outputId": "0d8db213-c834-40e9-8dc9-006cdbdb60ec"
      },
      "cell_type": "code",
      "source": [
        "# We can do more stuff to y (and thus x) and calculate its derivatives\n",
        "z = 2*y**2\n",
        "w = z.mean()\n",
        "\n",
        "print(z, w)"
      ],
      "execution_count": 29,
      "outputs": [
        {
          "output_type": "stream",
          "text": [
            "tensor([[200., 200.],\n",
            "        [200., 200.]], grad_fn=<MulBackward>) tensor(200., grad_fn=<MeanBackward1>)\n"
          ],
          "name": "stdout"
        }
      ]
    },
    {
      "metadata": {
        "id": "j7drfi1xF4Xa",
        "colab_type": "code",
        "colab": {}
      },
      "cell_type": "code",
      "source": [
        "# Backpropagation in one line!\n",
        "w.backward() # calculates the gradient "
      ],
      "execution_count": 0,
      "outputs": []
    },
    {
      "metadata": {
        "id": "ftwCHArbF4Xe",
        "colab_type": "code",
        "colab": {
          "base_uri": "https://localhost:8080/",
          "height": 51
        },
        "outputId": "1352bdbf-9167-458d-8153-7ed4810ec081"
      },
      "cell_type": "code",
      "source": [
        "# et voila!\n",
        "x.grad # the gradient for x"
      ],
      "execution_count": 31,
      "outputs": [
        {
          "output_type": "execute_result",
          "data": {
            "text/plain": [
              "tensor([[30., 30.],\n",
              "        [30., 30.]])"
            ]
          },
          "metadata": {
            "tags": []
          },
          "execution_count": 31
        }
      ]
    },
    {
      "metadata": {
        "id": "cl2CxCuPF4Xg",
        "colab_type": "text"
      },
      "cell_type": "markdown",
      "source": [
        "## Linear Regression Example"
      ]
    },
    {
      "metadata": {
        "id": "0xGMOxPkF4Xg",
        "colab_type": "text"
      },
      "cell_type": "markdown",
      "source": [
        "One of the classic problems in machine leaarning is trying to find the line of best fit for some given data."
      ]
    },
    {
      "metadata": {
        "id": "j612ommGF4Xg",
        "colab_type": "code",
        "colab": {}
      },
      "cell_type": "code",
      "source": [
        "n=200"
      ],
      "execution_count": 0,
      "outputs": []
    },
    {
      "metadata": {
        "id": "AOX5pLOkF4Xk",
        "colab_type": "code",
        "colab": {
          "base_uri": "https://localhost:8080/",
          "height": 102
        },
        "outputId": "295fa339-4d78-4b35-b35a-33d05ec95b40"
      },
      "cell_type": "code",
      "source": [
        "x = torch.ones(n,2) \n",
        "x[:,0].uniform_(-1.,1)\n",
        "x[:5]"
      ],
      "execution_count": 33,
      "outputs": [
        {
          "output_type": "execute_result",
          "data": {
            "text/plain": [
              "tensor([[ 0.5448,  1.0000],\n",
              "        [-0.4639,  1.0000],\n",
              "        [-0.8946,  1.0000],\n",
              "        [ 0.2832,  1.0000],\n",
              "        [ 0.6275,  1.0000]])"
            ]
          },
          "metadata": {
            "tags": []
          },
          "execution_count": 33
        }
      ]
    },
    {
      "metadata": {
        "id": "Mvd6M0xxF4Xl",
        "colab_type": "code",
        "colab": {
          "base_uri": "https://localhost:8080/",
          "height": 34
        },
        "outputId": "8cc3b9f0-d417-47af-cf23-7e5e6c216edc"
      },
      "cell_type": "code",
      "source": [
        "a = torch.tensor([5.,3]) \n",
        "a"
      ],
      "execution_count": 34,
      "outputs": [
        {
          "output_type": "execute_result",
          "data": {
            "text/plain": [
              "tensor([5., 3.])"
            ]
          },
          "metadata": {
            "tags": []
          },
          "execution_count": 34
        }
      ]
    },
    {
      "metadata": {
        "id": "p3ZbSM_PF4Xn",
        "colab_type": "code",
        "colab": {}
      },
      "cell_type": "code",
      "source": [
        "y = x@a + torch.rand(n) # this winds up being just 5x + 3 when you multiply the matrix"
      ],
      "execution_count": 0,
      "outputs": []
    },
    {
      "metadata": {
        "id": "wPk3TxagF4Xp",
        "colab_type": "code",
        "colab": {
          "base_uri": "https://localhost:8080/",
          "height": 265
        },
        "outputId": "e7dbf8ca-eb08-4772-f770-08812ff75078"
      },
      "cell_type": "code",
      "source": [
        "plt.scatter(x[:,0], y);"
      ],
      "execution_count": 36,
      "outputs": [
        {
          "output_type": "display_data",
          "data": {
            "image/png": "[encoded data removed]",
            "text/plain": [
              "<matplotlib.figure.Figure at 0x7fd8c4b481d0>"
            ]
          },
          "metadata": {
            "tags": []
          }
        }
      ]
    },
    {
      "metadata": {
        "id": "7Ax8wW0OF4Xq",
        "colab_type": "code",
        "colab": {}
      },
      "cell_type": "code",
      "source": [
        "# define the loss function we will be minizing\n",
        "def mse(y, y_pred): \n",
        "    return ((y - y_pred)**2).mean()"
      ],
      "execution_count": 0,
      "outputs": []
    },
    {
      "metadata": {
        "id": "RKymtSzRF4Xt",
        "colab_type": "code",
        "colab": {}
      },
      "cell_type": "code",
      "source": [
        "# start with some initial guess \n",
        "a_guess = torch.tensor([-1.,1])"
      ],
      "execution_count": 0,
      "outputs": []
    },
    {
      "metadata": {
        "id": "O3QTZ0DKF4Xv",
        "colab_type": "code",
        "colab": {
          "base_uri": "https://localhost:8080/",
          "height": 34
        },
        "outputId": "8956f2d2-d243-4b2d-fac2-d042faf77cb0"
      },
      "cell_type": "code",
      "source": [
        "# find the \"best\" line given this guess\n",
        "# and determine the loss \n",
        "y_pred = x@a_guess\n",
        "mse(y, y_pred)"
      ],
      "execution_count": 39,
      "outputs": [
        {
          "output_type": "execute_result",
          "data": {
            "text/plain": [
              "tensor(19.4048)"
            ]
          },
          "metadata": {
            "tags": []
          },
          "execution_count": 39
        }
      ]
    },
    {
      "metadata": {
        "id": "VrXvnnIbF4Xx",
        "colab_type": "code",
        "colab": {
          "base_uri": "https://localhost:8080/",
          "height": 265
        },
        "outputId": "f4da21aa-f1e3-44f6-e5f9-e13e89d67b5b"
      },
      "cell_type": "code",
      "source": [
        "# see how the answer differs from the original\n",
        "plt.scatter(x[:,0],y)\n",
        "plt.scatter(x[:,0],y_pred);"
      ],
      "execution_count": 40,
      "outputs": [
        {
          "output_type": "display_data",
          "data": {
            "image/png": "[encoded data removed]",
            "text/plain": [
              "<matplotlib.figure.Figure at 0x7fd8c4b480f0>"
            ]
          },
          "metadata": {
            "tags": []
          }
        }
      ]
    },
    {
      "metadata": {
        "id": "YSCSzdGnF4Xx",
        "colab_type": "code",
        "colab": {
          "base_uri": "https://localhost:8080/",
          "height": 51
        },
        "outputId": "7c9841d6-f5f5-4011-a5f0-fdda5d38a3b0"
      },
      "cell_type": "code",
      "source": [
        "a_guess = nn.Parameter(a_guess)\n",
        "a_guess"
      ],
      "execution_count": 41,
      "outputs": [
        {
          "output_type": "execute_result",
          "data": {
            "text/plain": [
              "Parameter containing:\n",
              "tensor([-1.,  1.], requires_grad=True)"
            ]
          },
          "metadata": {
            "tags": []
          },
          "execution_count": 41
        }
      ]
    },
    {
      "metadata": {
        "id": "e_meA8ssF4X0",
        "colab_type": "code",
        "colab": {}
      },
      "cell_type": "code",
      "source": [
        "def update():\n",
        "    '''\n",
        "    function to update tensor using SGD\n",
        "    '''\n",
        "    y_pred = x@a_guess # x times the guess I have at the current step\n",
        "    loss = mse(y, y_pred) # the mean squared error\n",
        "    \n",
        "    if t % 10 == 0: \n",
        "        print(loss)\n",
        "        \n",
        "    loss.backward()\n",
        "    with torch.no_grad():\n",
        "        a_guess.sub_(lr * a_guess.grad) # take my random guess, subtract from a the learning rate times the gradient (gradient descent)\n",
        "        a_guess.grad.zero_() # zero out the gradient so that you can start from scratch next time"
      ],
      "execution_count": 0,
      "outputs": []
    },
    {
      "metadata": {
        "id": "1mdeHb0lF4X2",
        "colab_type": "code",
        "colab": {
          "base_uri": "https://localhost:8080/",
          "height": 187
        },
        "outputId": "80abc96e-e913-4d47-ae67-6e1496c89897"
      },
      "cell_type": "code",
      "source": [
        "lr = 1e-1\n",
        "for t in range(100): \n",
        "    update()"
      ],
      "execution_count": 43,
      "outputs": [
        {
          "output_type": "stream",
          "text": [
            "tensor(19.4048, grad_fn=<MeanBackward1>)\n",
            "tensor(3.0500, grad_fn=<MeanBackward1>)\n",
            "tensor(0.8277, grad_fn=<MeanBackward1>)\n",
            "tensor(0.2779, grad_fn=<MeanBackward1>)\n",
            "tensor(0.1366, grad_fn=<MeanBackward1>)\n",
            "tensor(0.1001, grad_fn=<MeanBackward1>)\n",
            "tensor(0.0908, grad_fn=<MeanBackward1>)\n",
            "tensor(0.0883, grad_fn=<MeanBackward1>)\n",
            "tensor(0.0877, grad_fn=<MeanBackward1>)\n",
            "tensor(0.0876, grad_fn=<MeanBackward1>)\n"
          ],
          "name": "stdout"
        }
      ]
    },
    {
      "metadata": {
        "id": "TIzLc2UCF4X4",
        "colab_type": "code",
        "colab": {
          "base_uri": "https://localhost:8080/",
          "height": 265
        },
        "outputId": "9a02f4b4-bc7f-4d5c-bfdc-7bc1265eef79"
      },
      "cell_type": "code",
      "source": [
        "plt.scatter(x[:,0], y)\n",
        "plt.scatter(x[:,0], x@a_guess.detach());"
      ],
      "execution_count": 44,
      "outputs": [
        {
          "output_type": "display_data",
          "data": {
            "image/png": "[encoded data removed]",
            "text/plain": [
              "<matplotlib.figure.Figure at 0x7fd8c0a54390>"
            ]
          },
          "metadata": {
            "tags": []
          }
        }
      ]
    },
    {
      "metadata": {
        "id": "VuCQsFSOF4X6",
        "colab_type": "text"
      },
      "cell_type": "markdown",
      "source": [
        "### Normal Equations\n",
        "Although we solved for the line of best fit using stochastic gradient descent,\n",
        "we could have also used the [Normal Equations](https://en.wikipedia.org/wiki/Linear_least_squares#Derivation_of_the_normal_equations) given by\n",
        "\n",
        "$$ \\theta = (X^T X)^{-1} X^T \\vec y$$\n",
        "\n",
        "where $\\theta$ is the vector we called `a_guess`"
      ]
    },
    {
      "metadata": {
        "id": "ttHFC0NNF4X6",
        "colab_type": "code",
        "colab": {
          "base_uri": "https://localhost:8080/",
          "height": 34
        },
        "outputId": "c0250943-6340-47e6-db8b-ce8035cffa31"
      },
      "cell_type": "code",
      "source": [
        "# Exercise:\n",
        "# Use pytorch to solve for theta using the normal equations\n",
        "# plot your result when you are finished\n",
        "\n",
        "# Code goes here\n",
        "\n",
        "#torch.t(x) gives you the transpose\n",
        "#x.inverse() gives you the inverse\n",
        "\n",
        "\n",
        "theta = ((torch.t(x) @ x)).inverse() @ torch.t(x) @ y\n",
        "theta"
      ],
      "execution_count": 50,
      "outputs": [
        {
          "output_type": "execute_result",
          "data": {
            "text/plain": [
              "tensor([4.9795, 3.5263])"
            ]
          },
          "metadata": {
            "tags": []
          },
          "execution_count": 50
        }
      ]
    },
    {
      "metadata": {
        "id": "6IwM0lyOF4X8",
        "colab_type": "text"
      },
      "cell_type": "markdown",
      "source": [
        "# Neural Nets"
      ]
    },
    {
      "metadata": {
        "id": "seb7NWt0F4X9",
        "colab_type": "text"
      },
      "cell_type": "markdown",
      "source": [
        "Neural networks (NNs) are special forms of nonlinear regressions where the decision system for which the NN is built mimics the way \n",
        "the brain is supposed to work (whether it works like a NN is up for grabs of course).\n",
        "\n",
        "Like many of the algorithms we have seen before, it is a supervised learning technique that can perform complex tasks."
      ]
    },
    {
      "metadata": {
        "id": "iicmAdV1F4X-",
        "colab_type": "text"
      },
      "cell_type": "markdown",
      "source": [
        "## Perceptrons"
      ]
    },
    {
      "metadata": {
        "id": "ffiM6Kd2F4X_",
        "colab_type": "text"
      },
      "cell_type": "markdown",
      "source": [
        "The basic building block of a neural network is a perceptron. A perceptron is like a neuron in a human brain. It takes inputs \n",
        "(e.g. sensory in a real brain) and then produces an output signal. An entire network of perceptrons is called a neural net.\n",
        "\n",
        "![linear regression](https://cdn.pbrd.co/images/Hs1n4DL.png)"
      ]
    },
    {
      "metadata": {
        "id": "8s13jObqF4YA",
        "colab_type": "text"
      },
      "cell_type": "markdown",
      "source": [
        "In general, a perceptron could have more or fewer inputs."
      ]
    },
    {
      "metadata": {
        "id": "YJIMYw2jF4YA",
        "colab_type": "text"
      },
      "cell_type": "markdown",
      "source": [
        "Instead of assigning equal weight to each of the inputs, we can assign real numbers $w_1, w_2, \\ldots$ expressing the importance of the respective inputs to the output. The nueron's output, 0 or 1, is determined whether the weighted sum $\\sum_j w_j x_j$ is less than or greater than some *threshold value*.\n",
        "\n",
        "Perceptrons may emit continuous signals or binary $(0,1)$ signals. In the case of a credit card application, the final perceptron is a binary one (approved or denied). Such perceptrons are implemented by means of squashing functions. For example, a really simple squashing function is one that issues a 1 if the function value is positive and a $-1$ if it is negative."
      ]
    },
    {
      "metadata": {
        "id": "Ebn4E3iwF4YB",
        "colab_type": "text"
      },
      "cell_type": "markdown",
      "source": [
        "To put this in more mathematical terms, let $z = \\sum_{j=0}^n w_j x_j$ . \n",
        "Then the *activation function* $\\phi(z)$ is defined as \n",
        "\n",
        "$$\n",
        "\\phi(z) =\n",
        "\\begin{cases}\n",
        "-1 & \\text{if } z < \\theta\\\\\n",
        " 1 & \\text{if } z \\geq \\theta\n",
        "\\end{cases}\n",
        "$$"
      ]
    },
    {
      "metadata": {
        "id": "mVOV-zfxF4YB",
        "colab_type": "text"
      },
      "cell_type": "markdown",
      "source": [
        "![](https://github.com/robert-alvarez/pytorch_tutorial/blob/master/img/activation-function.png?raw=1)"
      ]
    },
    {
      "metadata": {
        "id": "J1o9JMEdF4YC",
        "colab_type": "text"
      },
      "cell_type": "markdown",
      "source": [
        "The whole point of the perceptron is to mimic how a single nueron in the brain works: it either *fires* or it doesn't. Thus, the \n",
        "perceptron rule is fairly simple and can be summarized by the following steps.\n",
        "​\n",
        "* Initialize the weights to zero or small random numbers\n",
        "* For each training sample $\\textbf{x}_n$ perform the following steps:\n",
        "    * Compute the output value $y$\n",
        "    * Calculate error in $y$ vs $\\hat y$\n",
        "    * Update the weights\n",
        "  \n",
        "Here, the output value is the class label predicted by the activation function that we defined earlier, and the\n",
        "simultaneous update of weight $w_j$ in the weight vector $\\textbf{w}$ can be more formally written as\n",
        "​\n",
        "$$\\bar w_j = w_j + \\Delta w_j$$\n"
      ]
    },
    {
      "metadata": {
        "id": "uMOSiFdaF4YC",
        "colab_type": "text"
      },
      "cell_type": "markdown",
      "source": [
        "## Fitting a model\n",
        "\n",
        "Let's go back to our linear perceptron. It has the following parameters:\n",
        "\n",
        "* $x_i$: inputs\n",
        "* $y$ : output\n",
        "* $w_i$: learned weights\n",
        "\n",
        "What we would like to do is adjust the $w_i$'s until our model has the best fit.\n",
        "\n",
        "First, initialize the $w_i$'s in some meaningful way (usually they're drawn from a randon uniform distribution).\n",
        "\n",
        "Then, we put it into our usual **algorithm workflow:**\n",
        "\n",
        "* calculate prediction $\\hat y$\n",
        "* calculate Loss function $L(y, \\hat y)$\n",
        "* update weights using backpropagation\n",
        "\n",
        "### Loss function and backpropagation\n",
        "\n",
        "To figure out how well our prediction was during each epoch, we'll use a basic loss function, mean squared error (MSE):\n",
        "\n",
        "$L(y,\\hat{y}) = ||~ y-\\hat{y} ~||^2$,\n",
        "\n",
        "ultimately trying to find $L_{\\rm min}$, defined by the point in parameter space where $\\nabla_{w_i} L = 0$.\n",
        "\n",
        "Per-iteration update: \n",
        "\n",
        "$ w_i \\to w_i - \\eta \\nabla_{w_i} L $,\n",
        "\n",
        "where $\\eta$ is known as the learning rate; too small and takes very long to converge, too big and you oscillate about the minimum.\n"
      ]
    },
    {
      "metadata": {
        "id": "5VWRaiKkF4YD",
        "colab_type": "text"
      },
      "cell_type": "markdown",
      "source": [
        "## A basic example\n",
        "​\n",
        "We'll build an overly complex adding machine that will illustrate how neural nets work."
      ]
    },
    {
      "metadata": {
        "id": "75MyfExhF4YE",
        "colab_type": "code",
        "colab": {
          "base_uri": "https://localhost:8080/",
          "height": 68
        },
        "outputId": "1ee8df86-a78c-4331-ce30-e2a7234fe08f"
      },
      "cell_type": "code",
      "source": [
        "model = nn.Sequential(\n",
        "            nn.Linear(2, 1, bias=False)) #input, output - take in two and return 1\n",
        "\n",
        "optimizer = torch.optim.Adam(model.parameters())\n",
        "criterion = nn.MSELoss()\n",
        "print(model)"
      ],
      "execution_count": 51,
      "outputs": [
        {
          "output_type": "stream",
          "text": [
            "Sequential(\n",
            "  (0): Linear(in_features=2, out_features=1, bias=False)\n",
            ")\n"
          ],
          "name": "stdout"
        }
      ]
    },
    {
      "metadata": {
        "id": "cuurisydF4YF",
        "colab_type": "code",
        "colab": {
          "base_uri": "https://localhost:8080/",
          "height": 102
        },
        "outputId": "24e66bd9-4802-4515-a6b0-1d4366655eed"
      },
      "cell_type": "code",
      "source": [
        "total_loss = [] # we want to track the loss\n",
        "num_samples = 10000 # give it 10000 samples\n",
        "\n",
        "for num in range(num_samples):\n",
        "    # Progress bar indicator\n",
        "    if num % (num_samples//5) == 0:\n",
        "        print('{0}: %: {1:.3f}'.format(num,num/num_samples * 100))\n",
        "        \n",
        "    # data prep\n",
        "    x = 4*torch.rand(2) #generate two random numbers uniformly on (0,4)\n",
        "    data, target = Variable(x), Variable(x[0] + x[1])\n",
        "    \n",
        "    # Feed forward through NN\n",
        "    output = model(data)\n",
        "    loss = criterion(output, target)\n",
        "    total_loss.append(loss)\n",
        "    \n",
        "    # Backpropagation\n",
        "    optimizer.zero_grad() # take in the optimizer and zero out the gradient\n",
        "    loss.backward() # gradient descent\n",
        "    optimizer.step() # step through the optimizer"
      ],
      "execution_count": 52,
      "outputs": [
        {
          "output_type": "stream",
          "text": [
            "0: %: 0.000\n",
            "2000: %: 20.000\n",
            "4000: %: 40.000\n",
            "6000: %: 60.000\n",
            "8000: %: 80.000\n"
          ],
          "name": "stdout"
        }
      ]
    },
    {
      "metadata": {
        "id": "W3CuIi9QF4YH",
        "colab_type": "code",
        "colab": {
          "base_uri": "https://localhost:8080/",
          "height": 497
        },
        "outputId": "75c4b8da-c005-49df-9299-30dd68cbe33d"
      },
      "cell_type": "code",
      "source": [
        "# plot errors\n",
        "fig,ax=plt.subplots(figsize=(11,8))\n",
        "ax.plot(total_loss,marker='.',ls='',markersize=1.)\n",
        "ax.set_ylim(0,);ax.set_xlim(0,);ax.grid(alpha=0.2);\n",
        "ax.set_xlabel('training examples');ax.set_ylabel('mean squared loss');"
      ],
      "execution_count": 53,
      "outputs": [
        {
          "output_type": "display_data",
          "data": {
            "image/png": "[encoded data removed]",
            "text/plain": [
              "<matplotlib.figure.Figure at 0x7fd8c0a54518>"
            ]
          },
          "metadata": {
            "tags": []
          }
        }
      ]
    },
    {
      "metadata": {
        "id": "8z5JHjS2F4YI",
        "colab_type": "code",
        "colab": {}
      },
      "cell_type": "code",
      "source": [
        "# plot results\n",
        "x,y=np.linspace(-5,8,100),[]\n",
        "\n",
        "for xx in x:\n",
        "    yy=model(torch.tensor([xx,2])).data.cpu().numpy()[0]\n",
        "    y.append(yy)\n",
        "y=np.array(y)\n",
        "\n",
        "fig,ax=plt.subplots(figsize=(11,8))\n",
        "ax.plot([-5,8],[-3,10],lw=2.0,label='actual',alpha=0.7)\n",
        "ax.fill_betweenx([-3,10],0,4,alpha=0.2)\n",
        "ax.scatter(x,y,marker='.',s=3.,label='prediction',color='r')\n",
        "ax.text(0.2,0,'Where we have \\ntraining data')\n",
        "ax.legend()\n",
        "ax.set_ylim(-3,10);ax.set_xlim(-5,8);\n",
        "ax.grid(alpha=0.2);\n"
      ],
      "execution_count": 0,
      "outputs": []
    },
    {
      "metadata": {
        "id": "yBSRVpsaF4YK",
        "colab_type": "text"
      },
      "cell_type": "markdown",
      "source": [
        "## Feedforward Neural Network\n",
        "\n",
        "![General Feed Forward Network](https://www.jeremyjordan.me/content/images/2017/07/Screen-Shot-2017-07-26-at-1.44.58-PM.png)\n",
        "\n",
        "For our case of learning linear relationships, the modification to the linear regression architecture is depicted below:\n",
        "\n",
        "\n",
        "![non-linear activation](https://cdn.pbrd.co/images/Hs3GrKM.png)\n",
        "\n",
        "where\n",
        "\n",
        "$$\\sigma(z) = \\frac{1}{1+e^{-z}}$$\n",
        "\n",
        "is the so-called sigmoid function; this is typically the activation function that is first introduced, I think because of historical reasons. In modern practice, it finds most of its use in transforming single outputs from a NN into a probability. It's worth noting that if your NN will output multiple probabilities, for example, if your NN will categorize between black cats, red cats, white cats, etc., a multi-dimensional generalization of the sigmoid, called the softmax function, is typically used. \n",
        "\n",
        "The motivation behind adding an activation function is the hope that the NN model may capture non-linear relationships that exist in the data. Below are some commonly used activation functions. \n",
        "\n",
        "![activation functions](https://cdn-images-1.medium.com/max/1200/1*ZafDv3VUm60Eh10OeJu1vw.png)\n",
        "\n",
        "In practice, a lot of architectures use the rectified linear unit (ReLU), along with it's close cousin, the so-called leaky-ReLU. In introducing this idea though, let's focus on the sigmoid which maps real numbers from $(-\\infty,\\infty) \\to [0,1]$.\n",
        "\n",
        "Of course our data is linear in the case of a straight line (!) but let's see what happens if we try to force a non-linear activation layer to capture a linear relationship.."
      ]
    },
    {
      "metadata": {
        "id": "oTYvw0sfF4YL",
        "colab_type": "text"
      },
      "cell_type": "markdown",
      "source": [
        "## Non-linear model for a linear relationship\n",
        "\n",
        "### Deep Feedforward Network with sigmoid activation"
      ]
    },
    {
      "metadata": {
        "id": "c3GvxveQF4YL",
        "colab_type": "code",
        "colab": {
          "base_uri": "https://localhost:8080/",
          "height": 170
        },
        "outputId": "a0a361e5-a189-49b1-8e8a-84e10f8e6408"
      },
      "cell_type": "code",
      "source": [
        "model = nn.Sequential( # layers within a neural net\n",
        "            nn.Linear(2, 20), # give me the linear node. I'll put in 2 and give me 20 out\n",
        "            nn.Sigmoid(), # squash it to the sigmoid\n",
        "            nn.Linear(20, 20), # put in 20 and return 20\n",
        "            nn.Sigmoid(), # squash it to the sigmoid\n",
        "            nn.Linear(20, 20),\n",
        "            nn.Sigmoid(),\n",
        "            nn.Linear(20, 1))\n",
        "\n",
        "optimizer = torch.optim.Adam(model.parameters())\n",
        "criterion = nn.MSELoss()\n",
        "print(model)"
      ],
      "execution_count": 55,
      "outputs": [
        {
          "output_type": "stream",
          "text": [
            "Sequential(\n",
            "  (0): Linear(in_features=2, out_features=20, bias=True)\n",
            "  (1): Sigmoid()\n",
            "  (2): Linear(in_features=20, out_features=20, bias=True)\n",
            "  (3): Sigmoid()\n",
            "  (4): Linear(in_features=20, out_features=20, bias=True)\n",
            "  (5): Sigmoid()\n",
            "  (6): Linear(in_features=20, out_features=1, bias=True)\n",
            ")\n"
          ],
          "name": "stdout"
        }
      ]
    },
    {
      "metadata": {
        "id": "Al6FEjqUF4YM",
        "colab_type": "code",
        "colab": {
          "base_uri": "https://localhost:8080/",
          "height": 102
        },
        "outputId": "9607e7d8-d672-4701-ffea-95dd1acf548e"
      },
      "cell_type": "code",
      "source": [
        "total_loss = []\n",
        "num_samples = 10000\n",
        "\n",
        "for num in range(num_samples):\n",
        "    # Progress bar indicator\n",
        "    if num % (num_samples//5) == 0:\n",
        "        print('{0}: %: {1:.3f}'.format(num,num/num_samples * 100))\n",
        "        \n",
        "    # data prep\n",
        "    x = 4*torch.rand(2) #generate two random numbers uniformly on (0,4)\n",
        "    data, target = Variable(x), Variable(x[0] + x[1])\n",
        "    \n",
        "    # Feed forward through NN\n",
        "    output = model(data)\n",
        "    loss = criterion(output, target)\n",
        "    total_loss.append(loss)\n",
        "    \n",
        "    # Backpropagation\n",
        "    optimizer.zero_grad()\n",
        "    loss.backward()\n",
        "    optimizer.step()"
      ],
      "execution_count": 56,
      "outputs": [
        {
          "output_type": "stream",
          "text": [
            "0: %: 0.000\n",
            "2000: %: 20.000\n",
            "4000: %: 40.000\n",
            "6000: %: 60.000\n",
            "8000: %: 80.000\n"
          ],
          "name": "stdout"
        }
      ]
    },
    {
      "metadata": {
        "id": "9Uc3EJpZF4YO",
        "colab_type": "code",
        "colab": {
          "base_uri": "https://localhost:8080/",
          "height": 978
        },
        "outputId": "3e08cc2f-cf3e-4100-8560-42c3d23ce46c"
      },
      "cell_type": "code",
      "source": [
        "fig,ax=plt.subplots(figsize=(11,8))\n",
        "ax.plot(total_loss,marker='.',ls='',markersize=.8)\n",
        "ax.set_ylim(0,);ax.set_xlim(0,);ax.grid(alpha=0.2);\n",
        "ax.set_xlabel('training examples');ax.set_ylabel('mean squared loss');\n",
        "\n",
        "x,y=np.linspace(-5,8,100),[]\n",
        "\n",
        "for xx in x:\n",
        "    yy=model(torch.tensor([xx,2])).data.cpu().numpy()[0]\n",
        "    y.append(yy)\n",
        "y=np.array(y)\n",
        "\n",
        "fig,ax=plt.subplots(figsize=(11,8))\n",
        "ax.plot([-5,8],[-3,10],lw=2.0,label='actual',alpha=0.7)\n",
        "ax.fill_betweenx([-3,10],0,4,alpha=0.2)\n",
        "ax.scatter(x,y,marker='.',s=3.,label='prediction',color='r')\n",
        "ax.text(0.2,0,'Where we have \\ntraining data')\n",
        "ax.legend()\n",
        "ax.set_ylim(-3,10);ax.set_xlim(-5,8);\n",
        "ax.grid(alpha=0.2);\n",
        "ax.set_title('Sigmoid activation function');"
      ],
      "execution_count": 57,
      "outputs": [
        {
          "output_type": "display_data",
          "data": {
            "image/png": "[encoded data removed]",
            "text/plain": [
              "<matplotlib.figure.Figure at 0x7fd8c0908518>"
            ]
          },
          "metadata": {
            "tags": []
          }
        },
        {
          "output_type": "display_data",
          "data": {
            "image/png": "[encoded data removed]",
            "text/plain": [
              "<matplotlib.figure.Figure at 0x7fd8c08295f8>"
            ]
          },
          "metadata": {
            "tags": []
          }
        }
      ]
    },
    {
      "metadata": {
        "id": "fkIxxDXgF4YQ",
        "colab_type": "text"
      },
      "cell_type": "markdown",
      "source": [
        "## Try your own activation functions!"
      ]
    },
    {
      "metadata": {
        "id": "n17EOaT9F4YQ",
        "colab_type": "code",
        "colab": {
          "base_uri": "https://localhost:8080/",
          "height": 170
        },
        "outputId": "ee11cf4b-011e-4853-f801-e9aa46512f58"
      },
      "cell_type": "code",
      "source": [
        "# Build your own adding machine using any of the \n",
        "# activation functions given above. Do any of them\n",
        "# perform worse than others?\n",
        "# See here for more functions\n",
        "\n",
        "#https://pytorch.org/docs/stable/nn.html#non-linear-activations-weighted-sum-nonlinearity\n",
        "\n",
        "\n",
        "model = nn.Sequential(\n",
        "            nn.Linear(2, 20), \n",
        "            nn.ReLU(), \n",
        "            nn.Linear(20, 20), \n",
        "            nn.Sigmoid(),\n",
        "            nn.Linear(20, 20),\n",
        "            nn.Sigmoid(),\n",
        "            nn.Linear(20, 1)\n",
        "            )\n",
        "\n",
        "optimizer = torch.optim.Adam(model.parameters())\n",
        "criterion = nn.MSELoss()\n",
        "print(model)"
      ],
      "execution_count": 74,
      "outputs": [
        {
          "output_type": "stream",
          "text": [
            "Sequential(\n",
            "  (0): Linear(in_features=2, out_features=20, bias=True)\n",
            "  (1): ReLU()\n",
            "  (2): Linear(in_features=20, out_features=20, bias=True)\n",
            "  (3): Sigmoid()\n",
            "  (4): Linear(in_features=20, out_features=20, bias=True)\n",
            "  (5): Sigmoid()\n",
            "  (6): Linear(in_features=20, out_features=1, bias=True)\n",
            ")\n"
          ],
          "name": "stdout"
        }
      ]
    },
    {
      "metadata": {
        "id": "KMd2t2rhF4YS",
        "colab_type": "code",
        "colab": {
          "base_uri": "https://localhost:8080/",
          "height": 102
        },
        "outputId": "855a696e-447e-47a1-aa76-61062a4b575e"
      },
      "cell_type": "code",
      "source": [
        "# check your loss scores\n",
        "\n",
        "total_loss = []\n",
        "num_samples = 10000\n",
        "\n",
        "for num in range(num_samples):\n",
        "    # Progress bar indicator\n",
        "    if num % (num_samples//5) == 0:\n",
        "        print('{0}: %: {1:.3f}'.format(num,num/num_samples * 100))\n",
        "        \n",
        "    # data prep\n",
        "    x = 4*torch.rand(2) #generate two random numbers uniformly on (0,4)\n",
        "    data, target = Variable(x), Variable(x[0] + x[1])\n",
        "    \n",
        "    # Feed forward through NN\n",
        "    output = model(data)\n",
        "    loss = criterion(output, target)\n",
        "    total_loss.append(loss)\n",
        "    \n",
        "    # Backpropagation\n",
        "    optimizer.zero_grad()\n",
        "    loss.backward()\n",
        "    optimizer.step()"
      ],
      "execution_count": 75,
      "outputs": [
        {
          "output_type": "stream",
          "text": [
            "0: %: 0.000\n",
            "2000: %: 20.000\n",
            "4000: %: 40.000\n",
            "6000: %: 60.000\n",
            "8000: %: 80.000\n"
          ],
          "name": "stdout"
        }
      ]
    },
    {
      "metadata": {
        "id": "qyRqGLtSF4YT",
        "colab_type": "code",
        "colab": {
          "base_uri": "https://localhost:8080/",
          "height": 978
        },
        "outputId": "fcf0ac37-1af1-4b97-9c1d-32ee9d360d92"
      },
      "cell_type": "code",
      "source": [
        "# Visualize your results\n",
        "fig,ax=plt.subplots(figsize=(11,8))\n",
        "ax.plot(total_loss,marker='.',ls='',markersize=.8)\n",
        "ax.set_ylim(0,);ax.set_xlim(0,);ax.grid(alpha=0.2);\n",
        "ax.set_xlabel('training examples');ax.set_ylabel('mean squared loss');\n",
        "\n",
        "x,y=np.linspace(-5,8,100),[]\n",
        "\n",
        "for xx in x:\n",
        "    yy=model(torch.tensor([xx,2])).data.cpu().numpy()[0]\n",
        "    y.append(yy)\n",
        "y=np.array(y)\n",
        "\n",
        "fig,ax=plt.subplots(figsize=(11,8))\n",
        "ax.plot([-5,8],[-3,10],lw=2.0,label='actual',alpha=0.7)\n",
        "ax.fill_betweenx([-3,10],0,4,alpha=0.2)\n",
        "ax.scatter(x,y,marker='.',s=3.,label='prediction',color='r')\n",
        "ax.text(0.2,0,'Where we have \\ntraining data')\n",
        "ax.legend()\n",
        "ax.set_ylim(-3,10);ax.set_xlim(-5,8);\n",
        "ax.grid(alpha=0.2);\n",
        "ax.set_title('Sigmoid activation function');"
      ],
      "execution_count": 76,
      "outputs": [
        {
          "output_type": "display_data",
          "data": {
            "image/png": "[encoded data removed]",
            "text/plain": [
              "<matplotlib.figure.Figure at 0x7fd8c0acb0f0>"
            ]
          },
          "metadata": {
            "tags": []
          }
        },
        {
          "output_type": "display_data",
          "data": {
            "image/png": "[encoded data removed]",
            "text/plain": [
              "<matplotlib.figure.Figure at 0x7fd8c0abb160>"
            ]
          },
          "metadata": {
            "tags": []
          }
        }
      ]
    },
    {
      "metadata": {
        "id": "11qZ4-PXF4YW",
        "colab_type": "text"
      },
      "cell_type": "markdown",
      "source": [
        "## Teaching a machine to draw circles\n",
        "\n",
        "Here the NN learns attempts to learn the 2d rotation matrix, parameterized by the generator of rotations in two dimensions:\n",
        "\n",
        "$R={\\begin{bmatrix}\\cos \\theta &-\\sin \\theta \\\\\\sin \\theta &\\cos \\theta \\\\\\end{bmatrix}}$"
      ]
    },
    {
      "metadata": {
        "id": "z83VfToqF4YW",
        "colab_type": "code",
        "colab": {}
      },
      "cell_type": "code",
      "source": [
        "# First some helper functions for plotting and model training\n",
        "def train_models(models, optimizers, num_samples=1000, circle_interval=1.0, save_models=False, cuda=False, recurrent=False):\n",
        "    total_loss = []\n",
        "    for num in range(num_samples):\n",
        "        # progress indicator \n",
        "        if num % (num_samples//20) ==0:\n",
        "            print('{0}: %: {1:.3f}'.format(num, num/num_samples * 100))\n",
        "            \n",
        "        # data calc \n",
        "        # take a random point on the circle of radius 1\n",
        "        x, theta = torch.ones(2), circle_interval*2*np.pi*torch.rand(1)\n",
        "        R = torch.zeros(2,2)\n",
        "        R[0,:] = torch.Tensor([np.cos(theta[0]),-np.sin(theta[0])])\n",
        "        R[1,:] = torch.Tensor([np.sin(theta[0]), np.cos(theta[0])])\n",
        "        \n",
        "        data, target = Variable(theta), Variable(torch.mv(R,x))\n",
        "        \n",
        "        # Check if GPU can be used\n",
        "        if cuda:\n",
        "            data, target = data.cuda(), target.cuda()\n",
        "            \n",
        "        # learning phases \n",
        "        for idx, model in enumerate(models):\n",
        "            loss_iter = []\n",
        "            # forward \n",
        "            if recurrent:\n",
        "                output = model(data,None)\n",
        "            else:\n",
        "                output = model(data)\n",
        "            loss = criterion(output, target)\n",
        "            loss_iter.append(loss.data.item())\n",
        "            # backward \n",
        "            optimizers[idx].zero_grad()\n",
        "            loss.backward()\n",
        "            optimizers[idx].step()\n",
        "        total_loss.append(np.mean(loss_iter))\n",
        "        \n",
        "    # save model state \n",
        "    if save_models:\n",
        "        for l,model in enumerate(models):\n",
        "            torch.save(model.state_dict(), 'rotations_{}.pth'.format(l))\n",
        "    return total_loss,theta\n",
        "        \n",
        "def plot_circles(models, offset=0, CI=False, cuda=False, recurrent=False):\n",
        "    fig, axes = plt.subplots(figsize=(5*3,3.9),ncols=3)\n",
        "    x = torch.ones(2)\n",
        "    for k,ax in enumerate(axes):\n",
        "        ax.scatter(x[0],x[1], facecolors='none', edgecolors='r')\n",
        "        ax.scatter(x[0],x[1], facecolors='none', edgecolors='b')\n",
        "        x_real, y_real = [],[]\n",
        "        x_mean, y_mean = [],[]\n",
        "        x_std, y_std = [],[]\n",
        "        for theta in np.linspace((k+offset) *2*np.pi,(k+1+offset) *2*np.pi,300):\n",
        "            x_model,y_model = [],[]\n",
        "            # sythetic (real) data \n",
        "            data = Variable(torch.Tensor([theta]))#.cuda()\n",
        "            R = torch.zeros(2,2)\n",
        "            R[0,:] = torch.Tensor([np.cos(theta),-np.sin(theta)])\n",
        "            R[1,:] = torch.Tensor([np.sin(theta), np.cos(theta)])\n",
        "            real = torch.mv(R,x)\n",
        "            if cuda:\n",
        "                x_real.append(real[0].cpu().numpy())\n",
        "                y_real.append(real[1].cpu().numpy())\n",
        "            else:\n",
        "                x_real.append(real[0].numpy())\n",
        "                y_real.append(real[1].numpy())\n",
        "            # predict w/ all models \n",
        "            for model in models:\n",
        "                if recurrent:\n",
        "                    outputs=model(data,None).data\n",
        "                else:\n",
        "                    outputs=model(data).data\n",
        "                    \n",
        "                xx_model, yy_model = outputs[0],outputs[1]\n",
        "                \n",
        "                if cuda:\n",
        "                    x_model.append(xx_model.cpu().numpy())\n",
        "                    y_model.append(yy_model.cpu().numpy())\n",
        "                else:\n",
        "                    x_model.append(xx_model.numpy())\n",
        "                    y_model.append(yy_model.numpy())\n",
        "            # summarize all model predictions \n",
        "            x_mean.append(np.mean(x_model))\n",
        "            y_mean.append(np.mean(y_model))\n",
        "            x_std.append(np.std(x_model))\n",
        "            y_std.append(np.std(y_model))\n",
        "        # plotting data \n",
        "        ax.scatter(x_real,y_real, facecolors='none', edgecolors='r',label='real data',s=2.)\n",
        "        ax.scatter(x_mean,y_mean, facecolors='none', edgecolors='k',label='model data', alpha=0.9,s=2.)\n",
        "        if CI:\n",
        "            ax.fill_betweenx(y_mean,x_mean-3*np.array(x_std),x_mean+3*np.array(x_std), alpha=0.1,color='b')\n",
        "            ax.fill_between(x_mean,y_mean-3*np.array(y_std),y_mean+3*np.array(y_std), alpha=0.1,color='b')\n",
        "        ax.legend()\n",
        "        ax.set_ylim(-2,2);ax.set_xlim(-2,2);ax.grid(alpha=0.3)\n",
        "        ax.set_title(r'${}\\pi \\leq \\theta \\leq {}\\pi$'.format(2*(k+offset),2*(k+1+offset)),y=1.01);\n",
        "    \n",
        "    return x_mean, y_mean, np.array(x_std), np.array(y_std)\n",
        "        \n",
        "def weight_init(m): # so-called xavier normalization https://arxiv.org/abs/1211.5063\n",
        "    if isinstance(m, nn.Linear):\n",
        "        size = m.weight.size()\n",
        "        fan_out = size[0]\n",
        "        fan_in = size[1]\n",
        "        variance = np.sqrt(2.0/(fan_in + fan_out))\n",
        "        m.weight.data.normal_(0.0, variance)"
      ],
      "execution_count": 0,
      "outputs": []
    },
    {
      "metadata": {
        "id": "xcuvbs2OF4YY",
        "colab_type": "text"
      },
      "cell_type": "markdown",
      "source": [
        "### Defining a neural net as a class\n",
        "\n",
        "In general, when building your own neural nets, it is likely that you will be defining them in a class.\n",
        "This gives you the benefit of controlling every aspect of what you want the NN to do, albeit at the cost of \n",
        "writing more code"
      ]
    },
    {
      "metadata": {
        "id": "oneGZG8KF4Ya",
        "colab_type": "code",
        "colab": {
          "base_uri": "https://localhost:8080/",
          "height": 1217
        },
        "outputId": "58e838ef-469b-42cb-c75c-6e80dec6fc20"
      },
      "cell_type": "code",
      "source": [
        "num_nodes=10\n",
        "\n",
        "# define a class that inputs a nn.Module\n",
        "class Rotations(nn.Module):\n",
        "    def __init__(self):\n",
        "        \n",
        "        # it must inherit the .__init__() from the super class\n",
        "        super(Rotations, self).__init__()\n",
        "        \n",
        "        # define your layers\n",
        "        self.layer1 = nn.Sequential(\n",
        "            nn.Linear(1,num_nodes),\n",
        "            nn.Sigmoid(),\n",
        "            nn.Linear(num_nodes,2))\n",
        "    \n",
        "    # define forward propagation\n",
        "    # backpropagation is done for us by pytorch!\n",
        "    def forward(self, x):\n",
        "        out=self.layer1(x)\n",
        "        return out\n",
        "    \n",
        "    \n",
        "\n",
        "model = Rotations()\n",
        "optimizer = torch.optim.Adam(model.parameters())\n",
        "criterion = nn.MSELoss()\n",
        "print(model)\n",
        "\n",
        "total_loss, theta = train_models([model], [optimizer], num_samples=200000, circle_interval=2.0)\n",
        "\n",
        "fig,ax = plt.subplots(figsize=(11,8))\n",
        "ax.plot(total_loss,marker='.',ls='',markersize=.8)\n",
        "ax.set_ylim(0,);ax.set_xlim(0,);ax.grid(alpha=0.2);\n",
        "ax.set_xlabel('training examples');ax.set_ylabel('mean squared loss');\n",
        "\n",
        "output=plot_circles([model],offset=0,CI=False,recurrent=False)"
      ],
      "execution_count": 78,
      "outputs": [
        {
          "output_type": "stream",
          "text": [
            "Rotations(\n",
            "  (layer1): Sequential(\n",
            "    (0): Linear(in_features=1, out_features=10, bias=True)\n",
            "    (1): Sigmoid()\n",
            "    (2): Linear(in_features=10, out_features=2, bias=True)\n",
            "  )\n",
            ")\n",
            "0: %: 0.000\n",
            "10000: %: 5.000\n",
            "20000: %: 10.000\n",
            "30000: %: 15.000\n",
            "40000: %: 20.000\n",
            "50000: %: 25.000\n",
            "60000: %: 30.000\n",
            "70000: %: 35.000\n",
            "80000: %: 40.000\n",
            "90000: %: 45.000\n",
            "100000: %: 50.000\n",
            "110000: %: 55.000\n",
            "120000: %: 60.000\n",
            "130000: %: 65.000\n",
            "140000: %: 70.000\n",
            "150000: %: 75.000\n",
            "160000: %: 80.000\n",
            "170000: %: 85.000\n",
            "180000: %: 90.000\n",
            "190000: %: 95.000\n"
          ],
          "name": "stdout"
        },
        {
          "output_type": "display_data",
          "data": {
            "image/png": "[encoded data removed]",
            "text/plain": [
              "<matplotlib.figure.Figure at 0x7fd8c05f7438>"
            ]
          },
          "metadata": {
            "tags": []
          }
        },
        {
          "output_type": "display_data",
          "data": {
            "image/png": "[encoded data removed]",
            "text/plain": [
              "<matplotlib.figure.Figure at 0x7fd8c05aa550>"
            ]
          },
          "metadata": {
            "tags": []
          }
        }
      ]
    },
    {
      "metadata": {
        "id": "4A4q9V8sF4Yb",
        "colab_type": "text"
      },
      "cell_type": "markdown",
      "source": [
        "### Will a deeper network perform better?"
      ]
    },
    {
      "metadata": {
        "id": "40oTL-SOF4Yc",
        "colab_type": "code",
        "colab": {}
      },
      "cell_type": "code",
      "source": [
        "# Add more layers to the model and see if performance on the test set increases\n",
        "\n",
        "num_nodes=10\n",
        "\n",
        "class Rotations(nn.Module):\n",
        "    # add more layers and use any combination \n",
        "    # of activation functions you deem fit. \n",
        "    # See prior example for guidance\n",
        "\n",
        "model=Rotations()\n",
        "optimizer=torch.optim.Adam(model.parameters())\n",
        "criterion=nn.MSELoss()\n",
        "print(model)\n",
        "\n",
        "total_loss,theta=train_models([model],[optimizer],num_samples=200000,circle_interval=2.0)\n",
        "\n",
        "fig,ax=plt.subplots(figsize=(7,5))\n",
        "ax.plot(total_loss,marker='.',ls='',markersize=.8)\n",
        "ax.set_ylim(0,);ax.set_xlim(0,);ax.grid(alpha=0.2);\n",
        "ax.set_xlabel('training examples');ax.set_ylabel('mean squared loss');\n",
        "\n",
        "output=plot_circles([model],offset=0,CI=False,recurrent=False)"
      ],
      "execution_count": 0,
      "outputs": []
    },
    {
      "metadata": {
        "id": "AB2iHOsSF4Yd",
        "colab_type": "text"
      },
      "cell_type": "markdown",
      "source": [
        "## Bayesian approach"
      ]
    },
    {
      "metadata": {
        "id": "Rdv_W7uoF4Yd",
        "colab_type": "text"
      },
      "cell_type": "markdown",
      "source": [
        "One simple approach to apply the bayesian method described by Yarin Gal, is to take multiple of the same models and train them independently. This allows each model to take independent paths through parameter space, usually finding their way near some optimal minima. In practice, this allows you to hedge the risk of getting stuck in some local minima and missing out on the global one, if it exists. \n",
        "\n",
        "A visual way of understanding the situation of training a machine learning model, in general, is by considering a 3D surface plot where the x and y dimensions are two parameters you may modify, with the loss on the z axis, or height, which your aim is to minimize. \n",
        "\n",
        "![landscape of deep learning models](http://7xihzu.com1.z0.glb.clouddn.com/20160716/graphical-idea-backprop.png)\n",
        "\n",
        "The surface that the data carves out in this space is predicated by the data; the aim of the model design is then to build a model flexible and robust enough to find the global minima, but not overly complex enough to overfit and get stuck at a local minima. Also, if your model is too simple, it can skip right over all the minima altogether, and not learn the nuance of the process described by the data. Having too high/low of a learning rate can also make the training process difficult."
      ]
    },
    {
      "metadata": {
        "id": "MYI6ipSoF4Ye",
        "colab_type": "text"
      },
      "cell_type": "markdown",
      "source": [
        "# Image Recognition Using Transfer Learning\n",
        "\n",
        "![Convolutional Architecture](https://cdn-images-1.medium.com/max/1600/1*NQQiyYqJJj4PSYAeWvxutg.png)"
      ]
    },
    {
      "metadata": {
        "id": "t3MjVfiYF4Ye",
        "colab_type": "code",
        "colab": {
          "base_uri": "https://localhost:8080/",
          "height": 51
        },
        "outputId": "cbbe8550-ce38-40ad-ff56-d8636ec54fa8"
      },
      "cell_type": "code",
      "source": [
        "transform = transforms.Compose(\n",
        "    [transforms.ToTensor(),\n",
        "     transforms.Normalize((0.5, 0.5, 0.5), (0.5, 0.5, 0.5))])\n",
        "\n",
        "trainset = torchvision.datasets.CIFAR10(root='./data', train=True,\n",
        "                                        download=True, transform=transform)\n",
        "trainloader = torch.utils.data.DataLoader(trainset, batch_size=4,\n",
        "                                          shuffle=True, num_workers=2)\n",
        "\n",
        "testset = torchvision.datasets.CIFAR10(root='./data', train=False,\n",
        "                                       download=True, transform=transform)\n",
        "testloader = torch.utils.data.DataLoader(testset, batch_size=4,\n",
        "                                         shuffle=False, num_workers=2)\n",
        "\n",
        "classes = ('plane', 'car', 'bird', 'cat',\n",
        "           'deer', 'dog', 'frog', 'horse', 'ship', 'truck')"
      ],
      "execution_count": 79,
      "outputs": [
        {
          "output_type": "stream",
          "text": [
            "Downloading https://www.cs.toronto.edu/~kriz/cifar-10-python.tar.gz to ./data/cifar-10-python.tar.gz\n",
            "Files already downloaded and verified\n"
          ],
          "name": "stdout"
        }
      ]
    },
    {
      "metadata": {
        "id": "e3DHB2pHF4Yf",
        "colab_type": "code",
        "colab": {}
      },
      "cell_type": "code",
      "source": [
        "# functions to show an image\n",
        "def imshow(img):\n",
        "    img = img / 2 + 0.5     # unnormalize\n",
        "    npimg = img.numpy()\n",
        "    plt.imshow(np.transpose(npimg, (1, 2, 0)))"
      ],
      "execution_count": 0,
      "outputs": []
    },
    {
      "metadata": {
        "id": "XMunYs3XF4Yg",
        "colab_type": "code",
        "colab": {
          "base_uri": "https://localhost:8080/",
          "height": 138
        },
        "outputId": "52ca6f3a-b151-4ff7-8168-ecdc0a35477a"
      },
      "cell_type": "code",
      "source": [
        "# get some random training images\n",
        "dataiter = iter(trainloader)\n",
        "images, labels = dataiter.next()\n",
        "\n",
        "# show images\n",
        "imshow(torchvision.utils.make_grid(images))"
      ],
      "execution_count": 81,
      "outputs": [
        {
          "output_type": "display_data",
          "data": {
            "image/png": "[encoded data removed]",
            "text/plain": [
              "<matplotlib.figure.Figure at 0x7fd8c0001a58>"
            ]
          },
          "metadata": {
            "tags": []
          }
        }
      ]
    },
    {
      "metadata": {
        "id": "W_ohajsLF4Yh",
        "colab_type": "code",
        "colab": {
          "base_uri": "https://localhost:8080/",
          "height": 34
        },
        "outputId": "aa2778d3-8eb5-475d-fd23-2fbc21148b50"
      },
      "cell_type": "code",
      "source": [
        "# what are the labels?\n",
        "print(' '.join('%5s' % classes[labels[j]] for j in range(4)))"
      ],
      "execution_count": 82,
      "outputs": [
        {
          "output_type": "stream",
          "text": [
            " ship  frog  deer  ship\n"
          ],
          "name": "stdout"
        }
      ]
    },
    {
      "metadata": {
        "id": "TUzsPI0UF4Yj",
        "colab_type": "code",
        "colab": {}
      },
      "cell_type": "code",
      "source": [
        "# Build our first image recognition NN\n",
        "\n",
        "class NotQuiteImageNet(nn.Module):\n",
        "    def __init__(self):\n",
        "        super(NotQuiteImageNet, self).__init__()\n",
        "        self.conv1 = nn.Conv2d(3, 6, 5)\n",
        "        self.pool = nn.MaxPool2d(2, 2)\n",
        "        self.conv2 = nn.Conv2d(6, 16, 5)\n",
        "        self.fc1 = nn.Linear(16 * 5 * 5, 120)\n",
        "        self.fc2 = nn.Linear(120, 84)\n",
        "        self.fc3 = nn.Linear(84, 10)\n",
        "        \n",
        "    def forward(self, x):\n",
        "        x = self.pool(F.relu(self.conv1(x)))\n",
        "        x = self.pool(F.relu(self.conv2(x)))\n",
        "        x = x.view(-1, 16 * 5 * 5)\n",
        "        x = F.relu(self.fc1(x))\n",
        "        x = F.relu(self.fc2(x))\n",
        "        x = self.fc3(x)\n",
        "        return x"
      ],
      "execution_count": 0,
      "outputs": []
    },
    {
      "metadata": {
        "id": "T-x6-7HyF4Yk",
        "colab_type": "code",
        "colab": {}
      },
      "cell_type": "code",
      "source": [
        "imagenet = NotQuiteImageNet()\n",
        "\n",
        "criterion = nn.CrossEntropyLoss()\n",
        "optimizer = torch.optim.SGD(imagenet.parameters(), lr=0.001, momentum=0.9)"
      ],
      "execution_count": 0,
      "outputs": []
    },
    {
      "metadata": {
        "id": "Bc1rxj9hF4Ym",
        "colab_type": "code",
        "colab": {
          "base_uri": "https://localhost:8080/",
          "height": 238
        },
        "outputId": "0c729a84-a86d-4ca2-fa21-427ba1d718ea"
      },
      "cell_type": "code",
      "source": [
        "# running for short epochs to minimize compute time\n",
        "for epoch in range(2):  # loop over the dataset multiple times\n",
        "\n",
        "    running_loss = 0.0\n",
        "    for i, data in enumerate(trainloader, 0):\n",
        "        # get the inputs\n",
        "        inputs, labels = data\n",
        "\n",
        "        # zero the parameter gradients\n",
        "        optimizer.zero_grad()\n",
        "\n",
        "        # forward + backward + optimize\n",
        "        outputs = imagenet(inputs)\n",
        "        loss = criterion(outputs, labels)\n",
        "        loss.backward()\n",
        "        optimizer.step()\n",
        "\n",
        "        # print statistics\n",
        "        running_loss += loss.item()\n",
        "        if i % 2000 == 1999:    # print every 2000 mini-batches\n",
        "            print('[%d, %5d] loss: %.3f' %\n",
        "                  (epoch + 1, i + 1, running_loss / 2000))\n",
        "            running_loss = 0.0\n",
        "\n",
        "print('Finished Training')"
      ],
      "execution_count": 93,
      "outputs": [
        {
          "output_type": "stream",
          "text": [
            "[1,  2000] loss: 1.218\n",
            "[1,  4000] loss: 1.219\n",
            "[1,  6000] loss: 1.222\n",
            "[1,  8000] loss: 1.216\n",
            "[1, 10000] loss: 1.201\n",
            "[1, 12000] loss: 1.206\n",
            "[2,  2000] loss: 1.101\n",
            "[2,  4000] loss: 1.125\n",
            "[2,  6000] loss: 1.131\n",
            "[2,  8000] loss: 1.119\n",
            "[2, 10000] loss: 1.115\n",
            "[2, 12000] loss: 1.091\n",
            "Finished Training\n"
          ],
          "name": "stdout"
        }
      ]
    },
    {
      "metadata": {
        "id": "cdvXhjxLF4Yn",
        "colab_type": "code",
        "colab": {
          "base_uri": "https://localhost:8080/",
          "height": 138
        },
        "outputId": "757e3115-56ae-4be4-87d4-90b077be7bb2"
      },
      "cell_type": "code",
      "source": [
        "dataiter = iter(testloader)\n",
        "images, labels = dataiter.next()\n",
        "\n",
        "# print images\n",
        "imshow(torchvision.utils.make_grid(images))"
      ],
      "execution_count": 94,
      "outputs": [
        {
          "output_type": "display_data",
          "data": {
            "image/png": "[encoded data removed]",
            "text/plain": [
              "<matplotlib.figure.Figure at 0x7fd8c01230b8>"
            ]
          },
          "metadata": {
            "tags": []
          }
        }
      ]
    },
    {
      "metadata": {
        "id": "S6rzNy4cF4Yo",
        "colab_type": "code",
        "colab": {
          "base_uri": "https://localhost:8080/",
          "height": 34
        },
        "outputId": "a7f5c8c1-f9df-468e-a890-eab10aa74669"
      },
      "cell_type": "code",
      "source": [
        "print('GroundTruth:', ' '.join('%5s' % classes[labels[j]] for j in range(4)))"
      ],
      "execution_count": 95,
      "outputs": [
        {
          "output_type": "stream",
          "text": [
            "GroundTruth:   cat  ship  ship plane\n"
          ],
          "name": "stdout"
        }
      ]
    },
    {
      "metadata": {
        "id": "7C1keRzTF4Yp",
        "colab_type": "code",
        "colab": {}
      },
      "cell_type": "code",
      "source": [
        "outputs = imagenet(images)"
      ],
      "execution_count": 0,
      "outputs": []
    },
    {
      "metadata": {
        "id": "sNbPwSfAF4Yq",
        "colab_type": "code",
        "colab": {
          "base_uri": "https://localhost:8080/",
          "height": 34
        },
        "outputId": "1435a603-a8d0-466e-ccc3-866d2d174209"
      },
      "cell_type": "code",
      "source": [
        "_, predicted = torch.max(outputs, 1)\n",
        "\n",
        "print('Predicted: ', ' '.join('%5s' % classes[predicted[j]]\n",
        "                              for j in range(4)))"
      ],
      "execution_count": 97,
      "outputs": [
        {
          "output_type": "stream",
          "text": [
            "Predicted:    cat plane  ship plane\n"
          ],
          "name": "stdout"
        }
      ]
    },
    {
      "metadata": {
        "id": "fkXExFGvF4Yr",
        "colab_type": "code",
        "colab": {
          "base_uri": "https://localhost:8080/",
          "height": 34
        },
        "outputId": "8e239b81-3d11-464a-ac4b-e2246b9da727"
      },
      "cell_type": "code",
      "source": [
        "correct = 0\n",
        "total = 0\n",
        "with torch.no_grad():\n",
        "    for data in testloader:\n",
        "        images, labels = data\n",
        "        outputs = imagenet(images)\n",
        "        _, predicted = torch.max(outputs.data, 1)\n",
        "        total += labels.size(0)\n",
        "        correct += (predicted == labels).sum().item()\n",
        "\n",
        "print('Accuracy of the network on the 10000 test images: %d %%' % (\n",
        "    100 * correct / total))\n"
      ],
      "execution_count": 98,
      "outputs": [
        {
          "output_type": "stream",
          "text": [
            "Accuracy of the network on the 10000 test images: 57 %\n"
          ],
          "name": "stdout"
        }
      ]
    },
    {
      "metadata": {
        "id": "w1GvK73mF4Yu",
        "colab_type": "text"
      },
      "cell_type": "markdown",
      "source": [
        "## Transfer Learning\n",
        "\n",
        "For most computer vision tasks you will encounter, it is almost always true that one or both of these things will be true:\n",
        "\n",
        "1) You do not have enough data to build your own deep learning model from scratch\n",
        "2) You will not have enough compute resources (unless you work for a large tech company)\n",
        "\n",
        "So, instead - and with equally good results - we download a pre-trained model like ResNet50 and remove the last fully connected layer. This allows us to leverage all of the work done by the pre-trained model and modify the last layer to suit our needs.\n",
        "\n",
        "Let's see this in action"
      ]
    },
    {
      "metadata": {
        "id": "GsSU1TY3F4Yu",
        "colab_type": "code",
        "colab": {}
      },
      "cell_type": "code",
      "source": [
        "\n",
        "# this normalizes our images for all 3 channels (RGB)\n",
        "normalize = transforms.Normalize(mean=[0.485, 0.456, 0.406],\n",
        "                                 std=[0.229, 0.224, 0.225])\n",
        " \n",
        "data_transforms = {\n",
        "    'train':\n",
        "        transforms.Compose([\n",
        "            transforms.Resize((224,224)),\n",
        "            transforms.RandomAffine(0, shear=10, scale=(0.8,1.2)),\n",
        "            transforms.RandomHorizontalFlip(),\n",
        "            transforms.ToTensor(),\n",
        "            normalize]),\n",
        "    'validation':\n",
        "        transforms.Compose([\n",
        "            transforms.Resize((224,224)),\n",
        "            transforms.ToTensor(),\n",
        "            normalize])}\n",
        " \n",
        "image_datasets = {\n",
        "    'train':\n",
        "        datasets.ImageFolder('data/train', data_transforms['train']),\n",
        "    'validation':\n",
        "        datasets.ImageFolder('data/validation', data_transforms['validation'])}\n",
        " \n",
        "dataloaders = {\n",
        "    'train':\n",
        "        torch.utils.data.DataLoader(\n",
        "            image_datasets['train'],\n",
        "            batch_size=32,\n",
        "            shuffle=True,\n",
        "            num_workers=0),\n",
        "    'validation':\n",
        "        torch.utils.data.DataLoader(\n",
        "            image_datasets['validation'],\n",
        "            batch_size=32,\n",
        "            shuffle=False,\n",
        "            num_workers=0)}"
      ],
      "execution_count": 0,
      "outputs": []
    },
    {
      "metadata": {
        "id": "RAYppbksF4Yv",
        "colab_type": "code",
        "colab": {
          "base_uri": "https://localhost:8080/",
          "height": 51
        },
        "outputId": "e2420fff-7d92-4394-8324-e02b38c5dd64"
      },
      "cell_type": "code",
      "source": [
        "#device = torch.device(\"cuda:0\" if torch.cuda.is_available() else \"cpu\")\n",
        "device = 'cpu' \n",
        "model = models.resnet50(pretrained=True).to(device)\n",
        " \n",
        "for param in model.parameters():\n",
        "    param.requires_grad = False\n",
        " \n",
        "model.fc = nn.Sequential(\n",
        "    nn.Linear(2048, 128),\n",
        "    nn.ReLU(inplace=True),\n",
        "    nn.Linear(128, 2)).to(device)\n",
        " \n",
        "criterion = nn.CrossEntropyLoss()\n",
        "optimizer = torch.optim.Adam(model.fc.parameters())"
      ],
      "execution_count": 100,
      "outputs": [
        {
          "output_type": "stream",
          "text": [
            "Downloading: \"https://download.pytorch.org/models/resnet50-19c8e357.pth\" to /root/.torch/models/resnet50-19c8e357.pth\n",
            "100%|██████████| 102502400/102502400 [00:01<00:00, 77325528.41it/s]\n"
          ],
          "name": "stderr"
        }
      ]
    },
    {
      "metadata": {
        "id": "z75_48FbF4Yw",
        "colab_type": "code",
        "colab": {
          "base_uri": "https://localhost:8080/",
          "height": 1442
        },
        "outputId": "2c5bb8d2-0043-4de9-d2fe-2cafe467a413"
      },
      "cell_type": "code",
      "source": [
        "def train_model(model, criterion, optimizer, num_epochs=3):\n",
        "    for epoch in range(num_epochs):\n",
        "        print(f'Epoch {epoch + 1}/{num_epochs}')\n",
        "        print('-' * 10)\n",
        " \n",
        "        for phase in ['train', 'validation']:\n",
        "            if phase == 'train':\n",
        "                model.train()\n",
        "            else:\n",
        "                model.eval()\n",
        " \n",
        "            running_loss = 0.0\n",
        "            running_corrects = 0\n",
        " \n",
        "            for inputs, labels in dataloaders[phase]:\n",
        "                inputs = inputs.to(device)\n",
        "                labels = labels.to(device)\n",
        " \n",
        "                outputs = model(inputs)\n",
        "                loss = criterion(outputs, labels)\n",
        " \n",
        "                if phase == 'train':\n",
        "                    optimizer.zero_grad()\n",
        "                    loss.backward()\n",
        "                    optimizer.step()\n",
        " \n",
        "                _, preds = torch.max(outputs, 1)\n",
        "                running_loss += loss.item() * inputs.size(0)\n",
        "                running_corrects += torch.sum(preds == labels.data)\n",
        " \n",
        "            epoch_loss = running_loss / len(image_datasets[phase])\n",
        "            epoch_acc = running_corrects.double() / len(image_datasets[phase])\n",
        " \n",
        "            print(f'{phase} loss: {epoch_loss}, acc: {epoch_acc}')\n",
        "    return model\n",
        " \n",
        "model_trained = train_model(model, criterion, optimizer, num_epochs=3)"
      ],
      "execution_count": 101,
      "outputs": [
        {
          "output_type": "stream",
          "text": [
            "Epoch 1/3\n",
            "----------\n"
          ],
          "name": "stdout"
        },
        {
          "output_type": "stream",
          "text": [
            "Exception ignored in: <bound method _DataLoaderIter.__del__ of <torch.utils.data.dataloader._DataLoaderIter object at 0x7fd8c06be710>>\n",
            "Traceback (most recent call last):\n",
            "  File \"/usr/local/lib/python3.6/dist-packages/torch/utils/data/dataloader.py\", line 397, in __del__\n",
            "    def __del__(self):\n",
            "  File \"/usr/local/lib/python3.6/dist-packages/torch/utils/data/dataloader.py\", line 227, in handler\n",
            "    _error_if_any_worker_fails()\n",
            "RuntimeError: DataLoader worker (pid 878) exited unexpectedly with exit code 1. Details are lost due to multiprocessing. Rerunning with num_workers=0 may give better error trace.\n"
          ],
          "name": "stderr"
        },
        {
          "output_type": "error",
          "ename": "KeyboardInterrupt",
          "evalue": "ignored",
          "traceback": [
            "\u001b[0;31m---------------------------------------------------------------------------\u001b[0m",
            "\u001b[0;31mKeyboardInterrupt\u001b[0m                         Traceback (most recent call last)",
            "\u001b[0;32m<ipython-input-101-8aa8fd124b83>\u001b[0m in \u001b[0;36m<module>\u001b[0;34m()\u001b[0m\n\u001b[1;32m     35\u001b[0m     \u001b[0;32mreturn\u001b[0m \u001b[0mmodel\u001b[0m\u001b[0;34m\u001b[0m\u001b[0m\n\u001b[1;32m     36\u001b[0m \u001b[0;34m\u001b[0m\u001b[0m\n\u001b[0;32m---> 37\u001b[0;31m \u001b[0mmodel_trained\u001b[0m \u001b[0;34m=\u001b[0m \u001b[0mtrain_model\u001b[0m\u001b[0;34m(\u001b[0m\u001b[0mmodel\u001b[0m\u001b[0;34m,\u001b[0m \u001b[0mcriterion\u001b[0m\u001b[0;34m,\u001b[0m \u001b[0moptimizer\u001b[0m\u001b[0;34m,\u001b[0m \u001b[0mnum_epochs\u001b[0m\u001b[0;34m=\u001b[0m\u001b[0;36m3\u001b[0m\u001b[0;34m)\u001b[0m\u001b[0;34m\u001b[0m\u001b[0m\n\u001b[0m",
            "\u001b[0;32m<ipython-input-101-8aa8fd124b83>\u001b[0m in \u001b[0;36mtrain_model\u001b[0;34m(model, criterion, optimizer, num_epochs)\u001b[0m\n\u001b[1;32m     17\u001b[0m                 \u001b[0mlabels\u001b[0m \u001b[0;34m=\u001b[0m \u001b[0mlabels\u001b[0m\u001b[0;34m.\u001b[0m\u001b[0mto\u001b[0m\u001b[0;34m(\u001b[0m\u001b[0mdevice\u001b[0m\u001b[0;34m)\u001b[0m\u001b[0;34m\u001b[0m\u001b[0m\n\u001b[1;32m     18\u001b[0m \u001b[0;34m\u001b[0m\u001b[0m\n\u001b[0;32m---> 19\u001b[0;31m                 \u001b[0moutputs\u001b[0m \u001b[0;34m=\u001b[0m \u001b[0mmodel\u001b[0m\u001b[0;34m(\u001b[0m\u001b[0minputs\u001b[0m\u001b[0;34m)\u001b[0m\u001b[0;34m\u001b[0m\u001b[0m\n\u001b[0m\u001b[1;32m     20\u001b[0m                 \u001b[0mloss\u001b[0m \u001b[0;34m=\u001b[0m \u001b[0mcriterion\u001b[0m\u001b[0;34m(\u001b[0m\u001b[0moutputs\u001b[0m\u001b[0;34m,\u001b[0m \u001b[0mlabels\u001b[0m\u001b[0;34m)\u001b[0m\u001b[0;34m\u001b[0m\u001b[0m\n\u001b[1;32m     21\u001b[0m \u001b[0;34m\u001b[0m\u001b[0m\n",
            "\u001b[0;32m/usr/local/lib/python3.6/dist-packages/torch/nn/modules/module.py\u001b[0m in \u001b[0;36m__call__\u001b[0;34m(self, *input, **kwargs)\u001b[0m\n\u001b[1;32m    475\u001b[0m             \u001b[0mresult\u001b[0m \u001b[0;34m=\u001b[0m \u001b[0mself\u001b[0m\u001b[0;34m.\u001b[0m\u001b[0m_slow_forward\u001b[0m\u001b[0;34m(\u001b[0m\u001b[0;34m*\u001b[0m\u001b[0minput\u001b[0m\u001b[0;34m,\u001b[0m \u001b[0;34m**\u001b[0m\u001b[0mkwargs\u001b[0m\u001b[0;34m)\u001b[0m\u001b[0;34m\u001b[0m\u001b[0m\n\u001b[1;32m    476\u001b[0m         \u001b[0;32melse\u001b[0m\u001b[0;34m:\u001b[0m\u001b[0;34m\u001b[0m\u001b[0m\n\u001b[0;32m--> 477\u001b[0;31m             \u001b[0mresult\u001b[0m \u001b[0;34m=\u001b[0m \u001b[0mself\u001b[0m\u001b[0;34m.\u001b[0m\u001b[0mforward\u001b[0m\u001b[0;34m(\u001b[0m\u001b[0;34m*\u001b[0m\u001b[0minput\u001b[0m\u001b[0;34m,\u001b[0m \u001b[0;34m**\u001b[0m\u001b[0mkwargs\u001b[0m\u001b[0;34m)\u001b[0m\u001b[0;34m\u001b[0m\u001b[0m\n\u001b[0m\u001b[1;32m    478\u001b[0m         \u001b[0;32mfor\u001b[0m \u001b[0mhook\u001b[0m \u001b[0;32min\u001b[0m \u001b[0mself\u001b[0m\u001b[0;34m.\u001b[0m\u001b[0m_forward_hooks\u001b[0m\u001b[0;34m.\u001b[0m\u001b[0mvalues\u001b[0m\u001b[0;34m(\u001b[0m\u001b[0;34m)\u001b[0m\u001b[0;34m:\u001b[0m\u001b[0;34m\u001b[0m\u001b[0m\n\u001b[1;32m    479\u001b[0m             \u001b[0mhook_result\u001b[0m \u001b[0;34m=\u001b[0m \u001b[0mhook\u001b[0m\u001b[0;34m(\u001b[0m\u001b[0mself\u001b[0m\u001b[0;34m,\u001b[0m \u001b[0minput\u001b[0m\u001b[0;34m,\u001b[0m \u001b[0mresult\u001b[0m\u001b[0;34m)\u001b[0m\u001b[0;34m\u001b[0m\u001b[0m\n",
            "\u001b[0;32m/usr/local/lib/python3.6/dist-packages/torchvision/models/resnet.py\u001b[0m in \u001b[0;36mforward\u001b[0;34m(self, x)\u001b[0m\n\u001b[1;32m    144\u001b[0m         \u001b[0mx\u001b[0m \u001b[0;34m=\u001b[0m \u001b[0mself\u001b[0m\u001b[0;34m.\u001b[0m\u001b[0mlayer1\u001b[0m\u001b[0;34m(\u001b[0m\u001b[0mx\u001b[0m\u001b[0;34m)\u001b[0m\u001b[0;34m\u001b[0m\u001b[0m\n\u001b[1;32m    145\u001b[0m         \u001b[0mx\u001b[0m \u001b[0;34m=\u001b[0m \u001b[0mself\u001b[0m\u001b[0;34m.\u001b[0m\u001b[0mlayer2\u001b[0m\u001b[0;34m(\u001b[0m\u001b[0mx\u001b[0m\u001b[0;34m)\u001b[0m\u001b[0;34m\u001b[0m\u001b[0m\n\u001b[0;32m--> 146\u001b[0;31m         \u001b[0mx\u001b[0m \u001b[0;34m=\u001b[0m \u001b[0mself\u001b[0m\u001b[0;34m.\u001b[0m\u001b[0mlayer3\u001b[0m\u001b[0;34m(\u001b[0m\u001b[0mx\u001b[0m\u001b[0;34m)\u001b[0m\u001b[0;34m\u001b[0m\u001b[0m\n\u001b[0m\u001b[1;32m    147\u001b[0m         \u001b[0mx\u001b[0m \u001b[0;34m=\u001b[0m \u001b[0mself\u001b[0m\u001b[0;34m.\u001b[0m\u001b[0mlayer4\u001b[0m\u001b[0;34m(\u001b[0m\u001b[0mx\u001b[0m\u001b[0;34m)\u001b[0m\u001b[0;34m\u001b[0m\u001b[0m\n\u001b[1;32m    148\u001b[0m \u001b[0;34m\u001b[0m\u001b[0m\n",
            "\u001b[0;32m/usr/local/lib/python3.6/dist-packages/torch/nn/modules/module.py\u001b[0m in \u001b[0;36m__call__\u001b[0;34m(self, *input, **kwargs)\u001b[0m\n\u001b[1;32m    475\u001b[0m             \u001b[0mresult\u001b[0m \u001b[0;34m=\u001b[0m \u001b[0mself\u001b[0m\u001b[0;34m.\u001b[0m\u001b[0m_slow_forward\u001b[0m\u001b[0;34m(\u001b[0m\u001b[0;34m*\u001b[0m\u001b[0minput\u001b[0m\u001b[0;34m,\u001b[0m \u001b[0;34m**\u001b[0m\u001b[0mkwargs\u001b[0m\u001b[0;34m)\u001b[0m\u001b[0;34m\u001b[0m\u001b[0m\n\u001b[1;32m    476\u001b[0m         \u001b[0;32melse\u001b[0m\u001b[0;34m:\u001b[0m\u001b[0;34m\u001b[0m\u001b[0m\n\u001b[0;32m--> 477\u001b[0;31m             \u001b[0mresult\u001b[0m \u001b[0;34m=\u001b[0m \u001b[0mself\u001b[0m\u001b[0;34m.\u001b[0m\u001b[0mforward\u001b[0m\u001b[0;34m(\u001b[0m\u001b[0;34m*\u001b[0m\u001b[0minput\u001b[0m\u001b[0;34m,\u001b[0m \u001b[0;34m**\u001b[0m\u001b[0mkwargs\u001b[0m\u001b[0;34m)\u001b[0m\u001b[0;34m\u001b[0m\u001b[0m\n\u001b[0m\u001b[1;32m    478\u001b[0m         \u001b[0;32mfor\u001b[0m \u001b[0mhook\u001b[0m \u001b[0;32min\u001b[0m \u001b[0mself\u001b[0m\u001b[0;34m.\u001b[0m\u001b[0m_forward_hooks\u001b[0m\u001b[0;34m.\u001b[0m\u001b[0mvalues\u001b[0m\u001b[0;34m(\u001b[0m\u001b[0;34m)\u001b[0m\u001b[0;34m:\u001b[0m\u001b[0;34m\u001b[0m\u001b[0m\n\u001b[1;32m    479\u001b[0m             \u001b[0mhook_result\u001b[0m \u001b[0;34m=\u001b[0m \u001b[0mhook\u001b[0m\u001b[0;34m(\u001b[0m\u001b[0mself\u001b[0m\u001b[0;34m,\u001b[0m \u001b[0minput\u001b[0m\u001b[0;34m,\u001b[0m \u001b[0mresult\u001b[0m\u001b[0;34m)\u001b[0m\u001b[0;34m\u001b[0m\u001b[0m\n",
            "\u001b[0;32m/usr/local/lib/python3.6/dist-packages/torch/nn/modules/container.py\u001b[0m in \u001b[0;36mforward\u001b[0;34m(self, input)\u001b[0m\n\u001b[1;32m     89\u001b[0m     \u001b[0;32mdef\u001b[0m \u001b[0mforward\u001b[0m\u001b[0;34m(\u001b[0m\u001b[0mself\u001b[0m\u001b[0;34m,\u001b[0m \u001b[0minput\u001b[0m\u001b[0;34m)\u001b[0m\u001b[0;34m:\u001b[0m\u001b[0;34m\u001b[0m\u001b[0m\n\u001b[1;32m     90\u001b[0m         \u001b[0;32mfor\u001b[0m \u001b[0mmodule\u001b[0m \u001b[0;32min\u001b[0m \u001b[0mself\u001b[0m\u001b[0;34m.\u001b[0m\u001b[0m_modules\u001b[0m\u001b[0;34m.\u001b[0m\u001b[0mvalues\u001b[0m\u001b[0;34m(\u001b[0m\u001b[0;34m)\u001b[0m\u001b[0;34m:\u001b[0m\u001b[0;34m\u001b[0m\u001b[0m\n\u001b[0;32m---> 91\u001b[0;31m             \u001b[0minput\u001b[0m \u001b[0;34m=\u001b[0m \u001b[0mmodule\u001b[0m\u001b[0;34m(\u001b[0m\u001b[0minput\u001b[0m\u001b[0;34m)\u001b[0m\u001b[0;34m\u001b[0m\u001b[0m\n\u001b[0m\u001b[1;32m     92\u001b[0m         \u001b[0;32mreturn\u001b[0m \u001b[0minput\u001b[0m\u001b[0;34m\u001b[0m\u001b[0m\n\u001b[1;32m     93\u001b[0m \u001b[0;34m\u001b[0m\u001b[0m\n",
            "\u001b[0;32m/usr/local/lib/python3.6/dist-packages/torch/nn/modules/module.py\u001b[0m in \u001b[0;36m__call__\u001b[0;34m(self, *input, **kwargs)\u001b[0m\n\u001b[1;32m    475\u001b[0m             \u001b[0mresult\u001b[0m \u001b[0;34m=\u001b[0m \u001b[0mself\u001b[0m\u001b[0;34m.\u001b[0m\u001b[0m_slow_forward\u001b[0m\u001b[0;34m(\u001b[0m\u001b[0;34m*\u001b[0m\u001b[0minput\u001b[0m\u001b[0;34m,\u001b[0m \u001b[0;34m**\u001b[0m\u001b[0mkwargs\u001b[0m\u001b[0;34m)\u001b[0m\u001b[0;34m\u001b[0m\u001b[0m\n\u001b[1;32m    476\u001b[0m         \u001b[0;32melse\u001b[0m\u001b[0;34m:\u001b[0m\u001b[0;34m\u001b[0m\u001b[0m\n\u001b[0;32m--> 477\u001b[0;31m             \u001b[0mresult\u001b[0m \u001b[0;34m=\u001b[0m \u001b[0mself\u001b[0m\u001b[0;34m.\u001b[0m\u001b[0mforward\u001b[0m\u001b[0;34m(\u001b[0m\u001b[0;34m*\u001b[0m\u001b[0minput\u001b[0m\u001b[0;34m,\u001b[0m \u001b[0;34m**\u001b[0m\u001b[0mkwargs\u001b[0m\u001b[0;34m)\u001b[0m\u001b[0;34m\u001b[0m\u001b[0m\n\u001b[0m\u001b[1;32m    478\u001b[0m         \u001b[0;32mfor\u001b[0m \u001b[0mhook\u001b[0m \u001b[0;32min\u001b[0m \u001b[0mself\u001b[0m\u001b[0;34m.\u001b[0m\u001b[0m_forward_hooks\u001b[0m\u001b[0;34m.\u001b[0m\u001b[0mvalues\u001b[0m\u001b[0;34m(\u001b[0m\u001b[0;34m)\u001b[0m\u001b[0;34m:\u001b[0m\u001b[0;34m\u001b[0m\u001b[0m\n\u001b[1;32m    479\u001b[0m             \u001b[0mhook_result\u001b[0m \u001b[0;34m=\u001b[0m \u001b[0mhook\u001b[0m\u001b[0;34m(\u001b[0m\u001b[0mself\u001b[0m\u001b[0;34m,\u001b[0m \u001b[0minput\u001b[0m\u001b[0;34m,\u001b[0m \u001b[0mresult\u001b[0m\u001b[0;34m)\u001b[0m\u001b[0;34m\u001b[0m\u001b[0m\n",
            "\u001b[0;32m/usr/local/lib/python3.6/dist-packages/torchvision/models/resnet.py\u001b[0m in \u001b[0;36mforward\u001b[0;34m(self, x)\u001b[0m\n\u001b[1;32m     78\u001b[0m         \u001b[0mout\u001b[0m \u001b[0;34m=\u001b[0m \u001b[0mself\u001b[0m\u001b[0;34m.\u001b[0m\u001b[0mrelu\u001b[0m\u001b[0;34m(\u001b[0m\u001b[0mout\u001b[0m\u001b[0;34m)\u001b[0m\u001b[0;34m\u001b[0m\u001b[0m\n\u001b[1;32m     79\u001b[0m \u001b[0;34m\u001b[0m\u001b[0m\n\u001b[0;32m---> 80\u001b[0;31m         \u001b[0mout\u001b[0m \u001b[0;34m=\u001b[0m \u001b[0mself\u001b[0m\u001b[0;34m.\u001b[0m\u001b[0mconv2\u001b[0m\u001b[0;34m(\u001b[0m\u001b[0mout\u001b[0m\u001b[0;34m)\u001b[0m\u001b[0;34m\u001b[0m\u001b[0m\n\u001b[0m\u001b[1;32m     81\u001b[0m         \u001b[0mout\u001b[0m \u001b[0;34m=\u001b[0m \u001b[0mself\u001b[0m\u001b[0;34m.\u001b[0m\u001b[0mbn2\u001b[0m\u001b[0;34m(\u001b[0m\u001b[0mout\u001b[0m\u001b[0;34m)\u001b[0m\u001b[0;34m\u001b[0m\u001b[0m\n\u001b[1;32m     82\u001b[0m         \u001b[0mout\u001b[0m \u001b[0;34m=\u001b[0m \u001b[0mself\u001b[0m\u001b[0;34m.\u001b[0m\u001b[0mrelu\u001b[0m\u001b[0;34m(\u001b[0m\u001b[0mout\u001b[0m\u001b[0;34m)\u001b[0m\u001b[0;34m\u001b[0m\u001b[0m\n",
            "\u001b[0;32m/usr/local/lib/python3.6/dist-packages/torch/nn/modules/module.py\u001b[0m in \u001b[0;36m__call__\u001b[0;34m(self, *input, **kwargs)\u001b[0m\n\u001b[1;32m    475\u001b[0m             \u001b[0mresult\u001b[0m \u001b[0;34m=\u001b[0m \u001b[0mself\u001b[0m\u001b[0;34m.\u001b[0m\u001b[0m_slow_forward\u001b[0m\u001b[0;34m(\u001b[0m\u001b[0;34m*\u001b[0m\u001b[0minput\u001b[0m\u001b[0;34m,\u001b[0m \u001b[0;34m**\u001b[0m\u001b[0mkwargs\u001b[0m\u001b[0;34m)\u001b[0m\u001b[0;34m\u001b[0m\u001b[0m\n\u001b[1;32m    476\u001b[0m         \u001b[0;32melse\u001b[0m\u001b[0;34m:\u001b[0m\u001b[0;34m\u001b[0m\u001b[0m\n\u001b[0;32m--> 477\u001b[0;31m             \u001b[0mresult\u001b[0m \u001b[0;34m=\u001b[0m \u001b[0mself\u001b[0m\u001b[0;34m.\u001b[0m\u001b[0mforward\u001b[0m\u001b[0;34m(\u001b[0m\u001b[0;34m*\u001b[0m\u001b[0minput\u001b[0m\u001b[0;34m,\u001b[0m \u001b[0;34m**\u001b[0m\u001b[0mkwargs\u001b[0m\u001b[0;34m)\u001b[0m\u001b[0;34m\u001b[0m\u001b[0m\n\u001b[0m\u001b[1;32m    478\u001b[0m         \u001b[0;32mfor\u001b[0m \u001b[0mhook\u001b[0m \u001b[0;32min\u001b[0m \u001b[0mself\u001b[0m\u001b[0;34m.\u001b[0m\u001b[0m_forward_hooks\u001b[0m\u001b[0;34m.\u001b[0m\u001b[0mvalues\u001b[0m\u001b[0;34m(\u001b[0m\u001b[0;34m)\u001b[0m\u001b[0;34m:\u001b[0m\u001b[0;34m\u001b[0m\u001b[0m\n\u001b[1;32m    479\u001b[0m             \u001b[0mhook_result\u001b[0m \u001b[0;34m=\u001b[0m \u001b[0mhook\u001b[0m\u001b[0;34m(\u001b[0m\u001b[0mself\u001b[0m\u001b[0;34m,\u001b[0m \u001b[0minput\u001b[0m\u001b[0;34m,\u001b[0m \u001b[0mresult\u001b[0m\u001b[0;34m)\u001b[0m\u001b[0;34m\u001b[0m\u001b[0m\n",
            "\u001b[0;32m/usr/local/lib/python3.6/dist-packages/torch/nn/modules/conv.py\u001b[0m in \u001b[0;36mforward\u001b[0;34m(self, input)\u001b[0m\n\u001b[1;32m    299\u001b[0m     \u001b[0;32mdef\u001b[0m \u001b[0mforward\u001b[0m\u001b[0;34m(\u001b[0m\u001b[0mself\u001b[0m\u001b[0;34m,\u001b[0m \u001b[0minput\u001b[0m\u001b[0;34m)\u001b[0m\u001b[0;34m:\u001b[0m\u001b[0;34m\u001b[0m\u001b[0m\n\u001b[1;32m    300\u001b[0m         return F.conv2d(input, self.weight, self.bias, self.stride,\n\u001b[0;32m--> 301\u001b[0;31m                         self.padding, self.dilation, self.groups)\n\u001b[0m\u001b[1;32m    302\u001b[0m \u001b[0;34m\u001b[0m\u001b[0m\n\u001b[1;32m    303\u001b[0m \u001b[0;34m\u001b[0m\u001b[0m\n",
            "\u001b[0;31mKeyboardInterrupt\u001b[0m: "
          ]
        }
      ]
    },
    {
      "metadata": {
        "id": "l6o7Gum3F4Yy",
        "colab_type": "text"
      },
      "cell_type": "markdown",
      "source": [
        "### Saving Models"
      ]
    },
    {
      "metadata": {
        "id": "02o4Ak5NF4Yy",
        "colab_type": "code",
        "colab": {}
      },
      "cell_type": "code",
      "source": [
        "torch.save(model_trained.state_dict(),'data/avp_weights.h5')"
      ],
      "execution_count": 0,
      "outputs": []
    },
    {
      "metadata": {
        "id": "vaCXVBNuF4Yy",
        "colab_type": "text"
      },
      "cell_type": "markdown",
      "source": [
        "### Loading Models"
      ]
    },
    {
      "metadata": {
        "id": "Rpe-ZMehF4Yz",
        "colab_type": "code",
        "colab": {}
      },
      "cell_type": "code",
      "source": [
        "model = models.resnet50(pretrained=False).to(device)\n",
        "model.fc = nn.Sequential(\n",
        "    nn.Linear(2048, 128),\n",
        "    nn.ReLU(inplace=True),\n",
        "    nn.Linear(128, 2)).to(device)\n",
        "model.load_state_dict(torch.load('data/avp_weights.h5'))"
      ],
      "execution_count": 0,
      "outputs": []
    },
    {
      "metadata": {
        "id": "vKFOTX7tF4Yz",
        "colab_type": "text"
      },
      "cell_type": "markdown",
      "source": [
        "### Make predictions on test images"
      ]
    },
    {
      "metadata": {
        "id": "xAwtEMvsF4Yz",
        "colab_type": "code",
        "colab": {}
      },
      "cell_type": "code",
      "source": [
        "validation_img_paths = [\"data/validation/alien/11.jpg\",\n",
        "                        \"data/validation/alien/22.jpg\",\n",
        "                        \"data/validation/predator/33.jpg\"]\n",
        "img_list = [Image.open(img_path) for img_path in validation_img_paths]\n"
      ],
      "execution_count": 0,
      "outputs": []
    },
    {
      "metadata": {
        "id": "xraGXvxNF4Y1",
        "colab_type": "code",
        "colab": {}
      },
      "cell_type": "code",
      "source": [
        "validation_batch = torch.stack([data_transforms['validation'](img).to(device)\n",
        "                                for img in img_list])\n",
        " \n",
        "pred_logits_tensor = model(validation_batch)\n",
        "pred_probs = F.softmax(pred_logits_tensor, dim=1).cpu().data.numpy()"
      ],
      "execution_count": 0,
      "outputs": []
    },
    {
      "metadata": {
        "id": "mq97-YH1F4Y3",
        "colab_type": "code",
        "colab": {}
      },
      "cell_type": "code",
      "source": [
        "fig, axs = plt.subplots(1, len(img_list), figsize=(20, 5))\n",
        "for i, img in enumerate(img_list):\n",
        "    ax = axs[i]\n",
        "    ax.axis('off')\n",
        "    ax.set_title(\"{:.0f}% Alien, {:.0f}% Predator\".format(100*pred_probs[i,0],\n",
        "                                                          100*pred_probs[i,1]))\n",
        "    ax.imshow(img)\n"
      ],
      "execution_count": 0,
      "outputs": []
    },
    {
      "metadata": {
        "id": "XpxX-Dw-F4Y4",
        "colab_type": "text"
      },
      "cell_type": "markdown",
      "source": [
        "# CNN from Scratch"
      ]
    },
    {
      "metadata": {
        "id": "EHIKFp8CF4Y4",
        "colab_type": "text"
      },
      "cell_type": "markdown",
      "source": [
        "###  `Datasets` and `Dataloader`s\n",
        "\n",
        "In PyTorch, you'll usually create or import a `Dataset` subclass to represent your data. Once you've done that, you can use it to instantiate a `Dataloader` object which allows you to easily iterate over your training set in `BATCH_SIZE` chunks."
      ]
    },
    {
      "metadata": {
        "id": "ZSyWaIM5F4Y5",
        "colab_type": "code",
        "colab": {}
      },
      "cell_type": "code",
      "source": [
        "image_size = 28\n",
        "num_classes = 10\n",
        "num_channels = 1\n",
        "batch_size = 64\n",
        "id_to_label = {\n",
        "    0 :'T-shirt/top',\n",
        "    1 :'Trouser',\n",
        "    2 :'Pullover',\n",
        "    3 :'Dress',\n",
        "    4 :'Coat',\n",
        "    5 :'Sandal',\n",
        "    6 :'Shirt',\n",
        "    7 :'Sneaker',\n",
        "    8 :'Bag',\n",
        "    9 :'Ankle boot'}\n",
        "\n",
        "\n",
        "class FashionDataset(Dataset):\n",
        "\n",
        "    def __init__(self, path, \n",
        "                 image_size, num_channels, image_transform=None):\n",
        "        self.num_channels = num_channels\n",
        "        self.image_size = image_size\n",
        "        self.image_transform = image_transform\n",
        "        data_df = pd.read_csv(path)\n",
        "        self.X = data_df.values[:, 1:]\n",
        "        self.X = self.X.reshape(-1, image_size, image_size, num_channels)\n",
        "        self.X = self.X.astype('float32')\n",
        "        self.y = data_df.values[:, 0]\n",
        "        \n",
        "    def __getitem__(self, index):\n",
        "        batch_X, batch_y = self.X[index], self.y[index]\n",
        "        if self.image_transform is not None:\n",
        "            batch_X = self.image_transform(batch_X)\n",
        "        return batch_X, batch_y\n",
        "\n",
        "    def __len__(self):\n",
        "        return len(self.X)\n",
        "\n",
        "# This simple transform coverts the image from an numpy array\n",
        "# to a PyTorch tensor and remaps its values from 0-255 to 0-1. \n",
        "# Many other types of transformations are available, and they \n",
        "# can easily be composed into a pipeline. For more info see: \n",
        "# https://pytorch.org/docs/stable/torchvision/transforms.html\n",
        "image_transform = transforms.Compose([transforms.ToTensor()])\n",
        "\n",
        "train_dataset = FashionDataset(\n",
        "    'fashionmnist/fashion-mnist_train.csv', \n",
        "    image_size, \n",
        "    num_channels, \n",
        "    image_transform)\n",
        "\n",
        "train_dataloader = DataLoader(\n",
        "    dataset=train_dataset,\n",
        "    batch_size=batch_size,\n",
        "    shuffle=True)\n",
        "\n",
        "val_dataset = FashionDataset(\n",
        "    'fashionmnist/fashion-mnist_test.csv', \n",
        "    image_size, \n",
        "    num_channels, \n",
        "    image_transform)\n",
        "\n",
        "val_dataloader = DataLoader(\n",
        "    dataset=train_dataset,\n",
        "    batch_size=batch_size)"
      ],
      "execution_count": 0,
      "outputs": []
    },
    {
      "metadata": {
        "id": "4ItGP4ouF4Y6",
        "colab_type": "text"
      },
      "cell_type": "markdown",
      "source": [
        "### Show some examples from the training set"
      ]
    },
    {
      "metadata": {
        "id": "fTgSVt7OF4Y6",
        "colab_type": "code",
        "colab": {
          "base_uri": "https://localhost:8080/",
          "height": 127
        },
        "outputId": "d816405e-bfb6-47a7-a2d6-536f85e39dae"
      },
      "cell_type": "code",
      "source": [
        "def plot_images(data, labels, image_size):\n",
        "    size = 28\n",
        "    fig, axes = plt.subplots(\n",
        "        1, data.shape[0], figsize=(16, 4), \n",
        "        subplot_kw={'xticks':[], 'yticks':[]},\n",
        "        gridspec_kw=dict(hspace=0.1, wspace=0.1))\n",
        "    for i, ax in enumerate(axes.flat):\n",
        "        ax.imshow(data[i].reshape(image_size, image_size), cmap='binary')\n",
        "        ax.set_xlabel(labels[i])\n",
        "        \n",
        "images = train_dataset.X[:10]\n",
        "class_ids = train_dataset.y[:10]\n",
        "class_labels = [id_to_label[class_id] for class_id in class_ids]\n",
        "plot_images(images, class_labels, image_size)"
      ],
      "execution_count": 104,
      "outputs": [
        {
          "output_type": "display_data",
          "data": {
            "image/png": "[encoded data removed]",
            "text/plain": [
              "<matplotlib.figure.Figure at 0x7fd8c073b0b8>"
            ]
          },
          "metadata": {
            "tags": []
          }
        }
      ]
    },
    {
      "metadata": {
        "id": "4jUqbWYPF4Y8",
        "colab_type": "text"
      },
      "cell_type": "markdown",
      "source": [
        "## Modeling"
      ]
    },
    {
      "metadata": {
        "id": "yQwGWvXdF4Y8",
        "colab_type": "text"
      },
      "cell_type": "markdown",
      "source": [
        "The model below uses a single convolution with only 4 filters. Because of the simplicity of our dataset, it still manages to achieve nearly 90% accuracy after only 5 epochs and a minute or two of training.\n",
        "\n",
        "Complete `FashionModel` by writing the `forward()` function. The layers you need have already been created for you; you just need to pass the input through them and return it. (Hint: You'll need to reshape the output from the convolutional layer.) Once you've got the model up and running, try to see if you can increase the accuracy on the validation set to above 95%.\n",
        "\n",
        "Things you might try:\n",
        "\n",
        "* Increasing the number of filters per convolution.\n",
        "* Adding more convolutions.\n",
        "* Adding a `BatchNorm2d` layer after `Conv2d`.\n",
        "* Increasing the number of epochs.\n",
        "* Changing the kernel size.\n",
        "* Using different types of pooling or using stride > 1 in convolutional layers instead of pooling.\n",
        "\n",
        "You might also find the [PyTorch API reference](https://pytorch.org/docs/stable/nn.html) useful."
      ]
    },
    {
      "metadata": {
        "id": "mHDLObV6F4Y9",
        "colab_type": "code",
        "colab": {}
      },
      "cell_type": "code",
      "source": [
        "class FashionModel(nn.Module):\n",
        "    \n",
        "    def __init__(self, num_channels, num_classes):\n",
        "        super().__init__()\n",
        "        self.conv_1 = nn.Sequential(\n",
        "            nn.Conv2d(1, 4, kernel_size=3, stride=1, padding=1),\n",
        "            nn.ReLU(),\n",
        "            nn.MaxPool2d(kernel_size=2, stride=2))\n",
        "        self.linear = nn.Linear(14 * 14 * 4, num_classes)\n",
        "        \n",
        "        ## Add more layers\n",
        "        \n",
        "    def forward(self, x):\n",
        "        ## Don't forgot to add the forward method!\n",
        "        return x\n",
        "\n",
        "# Instantiate the model.    \n",
        "model = FashionModel(num_channels, num_classes)\n",
        "\n",
        "# Send the model's tensors to the GPU if available.\n",
        "device = torch.device('cuda' if torch.cuda.is_available() else 'cpu')\n",
        "model = model.to(device)      "
      ],
      "execution_count": 0,
      "outputs": []
    },
    {
      "metadata": {
        "id": "JrA2AdquF4Y9",
        "colab_type": "text"
      },
      "cell_type": "markdown",
      "source": [
        "## Training"
      ]
    },
    {
      "metadata": {
        "id": "aEkJJRb5F4Y-",
        "colab_type": "code",
        "colab": {
          "base_uri": "https://localhost:8080/",
          "height": 725
        },
        "outputId": "edc7710f-a5a8-493a-8088-00fd60a536ab"
      },
      "cell_type": "code",
      "source": [
        "num_epochs = 10\n",
        "log_freq = 100\n",
        "checkpoint_path = 'checkpoint.pickle'\n",
        "\n",
        "\n",
        "optimizer = torch.optim.Adam(model.parameters())\n",
        "criterion = nn.CrossEntropyLoss()\n",
        "for epoch in range(1, num_epochs + 1):\n",
        "    model.train()  # Switch to training mode.\n",
        "    print(f'Starting epoch {epoch}.')\n",
        "    epoch_start_time = time.time()\n",
        "    running_loss = 0.0\n",
        "    running_accuracy = 0.0\n",
        "    for batch_id, (batch_X, batch_y) in enumerate(train_dataloader):\n",
        "        batch_X = batch_X.to(device)\n",
        "        batch_y = batch_y.to(device)\n",
        "        output = model(batch_X)\n",
        "        loss = criterion(output, batch_y)\n",
        "        optimizer.zero_grad()\n",
        "        loss.backward()\n",
        "        optimizer.step()\n",
        "        \n",
        "        # Periodically print the loss and prediction accuracy.\n",
        "        running_loss += loss.item()\n",
        "        y_pred = output.argmax(dim=-1)\n",
        "        running_accuracy += accuracy_score(batch_y, y_pred)\n",
        "        if batch_id % log_freq == log_freq - 1:\n",
        "            average_loss = running_loss / log_freq\n",
        "            average_accuracy = running_accuracy / log_freq\n",
        "            print(f'Mini-batch: {batch_id + 1}/{len(train_dataloader)} '\n",
        "                  f'Loss: {average_loss:.5f} Accuracy: {average_accuracy:.5f}')\n",
        "            running_loss = 0.0\n",
        "            running_accuracy = 0.0\n",
        "            \n",
        "    # Log elapsed_time for the epoch.            \n",
        "    elapsed_time = time.time() - epoch_start_time\n",
        "    print(f'\\nEpoch {epoch} completed in {elapsed_time // 60:.0f} minutes '\n",
        "          f'{elapsed_time % 60:.0f} seconds.')\n",
        "    \n",
        "    # Calculate and log loss on validation set.\n",
        "    with torch.no_grad():\n",
        "        model.eval()\n",
        "        running_loss = 0.0\n",
        "        running_accuracy = 0.0\n",
        "        for batch_id, (batch_X, batch_y) in enumerate(val_dataloader):\n",
        "            batch_X = batch_X.to(device)\n",
        "            batch_y = batch_y.to(device)\n",
        "            output = model(batch_X)\n",
        "            loss = criterion(output, batch_y)\n",
        "            running_loss += loss.item()\n",
        "            y_pred = output.argmax(dim=-1)  \n",
        "            running_accuracy += accuracy_score(batch_y, y_pred)\n",
        "        average_loss = running_loss / len(val_dataloader)\n",
        "        average_accuracy = running_accuracy / len(val_dataloader)\n",
        "        print(f'Val Loss: {average_loss:.5f} Val Accuracy: {average_accuracy:.5f}\\n')"
      ],
      "execution_count": 106,
      "outputs": [
        {
          "output_type": "stream",
          "text": [
            "Starting epoch 1.\n"
          ],
          "name": "stdout"
        },
        {
          "output_type": "error",
          "ename": "RuntimeError",
          "evalue": "ignored",
          "traceback": [
            "\u001b[0;31m---------------------------------------------------------------------------\u001b[0m",
            "\u001b[0;31mRuntimeError\u001b[0m                              Traceback (most recent call last)",
            "\u001b[0;32m<ipython-input-106-4d4b634e1898>\u001b[0m in \u001b[0;36m<module>\u001b[0;34m()\u001b[0m\n\u001b[1;32m     16\u001b[0m         \u001b[0mbatch_y\u001b[0m \u001b[0;34m=\u001b[0m \u001b[0mbatch_y\u001b[0m\u001b[0;34m.\u001b[0m\u001b[0mto\u001b[0m\u001b[0;34m(\u001b[0m\u001b[0mdevice\u001b[0m\u001b[0;34m)\u001b[0m\u001b[0;34m\u001b[0m\u001b[0m\n\u001b[1;32m     17\u001b[0m         \u001b[0moutput\u001b[0m \u001b[0;34m=\u001b[0m \u001b[0mmodel\u001b[0m\u001b[0;34m(\u001b[0m\u001b[0mbatch_X\u001b[0m\u001b[0;34m)\u001b[0m\u001b[0;34m\u001b[0m\u001b[0m\n\u001b[0;32m---> 18\u001b[0;31m         \u001b[0mloss\u001b[0m \u001b[0;34m=\u001b[0m \u001b[0mcriterion\u001b[0m\u001b[0;34m(\u001b[0m\u001b[0moutput\u001b[0m\u001b[0;34m,\u001b[0m \u001b[0mbatch_y\u001b[0m\u001b[0;34m)\u001b[0m\u001b[0;34m\u001b[0m\u001b[0m\n\u001b[0m\u001b[1;32m     19\u001b[0m         \u001b[0moptimizer\u001b[0m\u001b[0;34m.\u001b[0m\u001b[0mzero_grad\u001b[0m\u001b[0;34m(\u001b[0m\u001b[0;34m)\u001b[0m\u001b[0;34m\u001b[0m\u001b[0m\n\u001b[1;32m     20\u001b[0m         \u001b[0mloss\u001b[0m\u001b[0;34m.\u001b[0m\u001b[0mbackward\u001b[0m\u001b[0;34m(\u001b[0m\u001b[0;34m)\u001b[0m\u001b[0;34m\u001b[0m\u001b[0m\n",
            "\u001b[0;32m/usr/local/lib/python3.6/dist-packages/torch/nn/modules/module.py\u001b[0m in \u001b[0;36m__call__\u001b[0;34m(self, *input, **kwargs)\u001b[0m\n\u001b[1;32m    475\u001b[0m             \u001b[0mresult\u001b[0m \u001b[0;34m=\u001b[0m \u001b[0mself\u001b[0m\u001b[0;34m.\u001b[0m\u001b[0m_slow_forward\u001b[0m\u001b[0;34m(\u001b[0m\u001b[0;34m*\u001b[0m\u001b[0minput\u001b[0m\u001b[0;34m,\u001b[0m \u001b[0;34m**\u001b[0m\u001b[0mkwargs\u001b[0m\u001b[0;34m)\u001b[0m\u001b[0;34m\u001b[0m\u001b[0m\n\u001b[1;32m    476\u001b[0m         \u001b[0;32melse\u001b[0m\u001b[0;34m:\u001b[0m\u001b[0;34m\u001b[0m\u001b[0m\n\u001b[0;32m--> 477\u001b[0;31m             \u001b[0mresult\u001b[0m \u001b[0;34m=\u001b[0m \u001b[0mself\u001b[0m\u001b[0;34m.\u001b[0m\u001b[0mforward\u001b[0m\u001b[0;34m(\u001b[0m\u001b[0;34m*\u001b[0m\u001b[0minput\u001b[0m\u001b[0;34m,\u001b[0m \u001b[0;34m**\u001b[0m\u001b[0mkwargs\u001b[0m\u001b[0;34m)\u001b[0m\u001b[0;34m\u001b[0m\u001b[0m\n\u001b[0m\u001b[1;32m    478\u001b[0m         \u001b[0;32mfor\u001b[0m \u001b[0mhook\u001b[0m \u001b[0;32min\u001b[0m \u001b[0mself\u001b[0m\u001b[0;34m.\u001b[0m\u001b[0m_forward_hooks\u001b[0m\u001b[0;34m.\u001b[0m\u001b[0mvalues\u001b[0m\u001b[0;34m(\u001b[0m\u001b[0;34m)\u001b[0m\u001b[0;34m:\u001b[0m\u001b[0;34m\u001b[0m\u001b[0m\n\u001b[1;32m    479\u001b[0m             \u001b[0mhook_result\u001b[0m \u001b[0;34m=\u001b[0m \u001b[0mhook\u001b[0m\u001b[0;34m(\u001b[0m\u001b[0mself\u001b[0m\u001b[0;34m,\u001b[0m \u001b[0minput\u001b[0m\u001b[0;34m,\u001b[0m \u001b[0mresult\u001b[0m\u001b[0;34m)\u001b[0m\u001b[0;34m\u001b[0m\u001b[0m\n",
            "\u001b[0;32m/usr/local/lib/python3.6/dist-packages/torch/nn/modules/loss.py\u001b[0m in \u001b[0;36mforward\u001b[0;34m(self, input, target)\u001b[0m\n\u001b[1;32m    860\u001b[0m     \u001b[0;32mdef\u001b[0m \u001b[0mforward\u001b[0m\u001b[0;34m(\u001b[0m\u001b[0mself\u001b[0m\u001b[0;34m,\u001b[0m \u001b[0minput\u001b[0m\u001b[0;34m,\u001b[0m \u001b[0mtarget\u001b[0m\u001b[0;34m)\u001b[0m\u001b[0;34m:\u001b[0m\u001b[0;34m\u001b[0m\u001b[0m\n\u001b[1;32m    861\u001b[0m         return F.cross_entropy(input, target, weight=self.weight,\n\u001b[0;32m--> 862\u001b[0;31m                                ignore_index=self.ignore_index, reduction=self.reduction)\n\u001b[0m\u001b[1;32m    863\u001b[0m \u001b[0;34m\u001b[0m\u001b[0m\n\u001b[1;32m    864\u001b[0m \u001b[0;34m\u001b[0m\u001b[0m\n",
            "\u001b[0;32m/usr/local/lib/python3.6/dist-packages/torch/nn/functional.py\u001b[0m in \u001b[0;36mcross_entropy\u001b[0;34m(input, target, weight, size_average, ignore_index, reduce, reduction)\u001b[0m\n\u001b[1;32m   1548\u001b[0m     \u001b[0;32mif\u001b[0m \u001b[0msize_average\u001b[0m \u001b[0;32mis\u001b[0m \u001b[0;32mnot\u001b[0m \u001b[0;32mNone\u001b[0m \u001b[0;32mor\u001b[0m \u001b[0mreduce\u001b[0m \u001b[0;32mis\u001b[0m \u001b[0;32mnot\u001b[0m \u001b[0;32mNone\u001b[0m\u001b[0;34m:\u001b[0m\u001b[0;34m\u001b[0m\u001b[0m\n\u001b[1;32m   1549\u001b[0m         \u001b[0mreduction\u001b[0m \u001b[0;34m=\u001b[0m \u001b[0m_Reduction\u001b[0m\u001b[0;34m.\u001b[0m\u001b[0mlegacy_get_string\u001b[0m\u001b[0;34m(\u001b[0m\u001b[0msize_average\u001b[0m\u001b[0;34m,\u001b[0m \u001b[0mreduce\u001b[0m\u001b[0;34m)\u001b[0m\u001b[0;34m\u001b[0m\u001b[0m\n\u001b[0;32m-> 1550\u001b[0;31m     \u001b[0;32mreturn\u001b[0m \u001b[0mnll_loss\u001b[0m\u001b[0;34m(\u001b[0m\u001b[0mlog_softmax\u001b[0m\u001b[0;34m(\u001b[0m\u001b[0minput\u001b[0m\u001b[0;34m,\u001b[0m \u001b[0;36m1\u001b[0m\u001b[0;34m)\u001b[0m\u001b[0;34m,\u001b[0m \u001b[0mtarget\u001b[0m\u001b[0;34m,\u001b[0m \u001b[0mweight\u001b[0m\u001b[0;34m,\u001b[0m \u001b[0;32mNone\u001b[0m\u001b[0;34m,\u001b[0m \u001b[0mignore_index\u001b[0m\u001b[0;34m,\u001b[0m \u001b[0;32mNone\u001b[0m\u001b[0;34m,\u001b[0m \u001b[0mreduction\u001b[0m\u001b[0;34m)\u001b[0m\u001b[0;34m\u001b[0m\u001b[0m\n\u001b[0m\u001b[1;32m   1551\u001b[0m \u001b[0;34m\u001b[0m\u001b[0m\n\u001b[1;32m   1552\u001b[0m \u001b[0;34m\u001b[0m\u001b[0m\n",
            "\u001b[0;32m/usr/local/lib/python3.6/dist-packages/torch/nn/functional.py\u001b[0m in \u001b[0;36mnll_loss\u001b[0;34m(input, target, weight, size_average, ignore_index, reduce, reduction)\u001b[0m\n\u001b[1;32m   1407\u001b[0m         \u001b[0;32mreturn\u001b[0m \u001b[0mtorch\u001b[0m\u001b[0;34m.\u001b[0m\u001b[0m_C\u001b[0m\u001b[0;34m.\u001b[0m\u001b[0m_nn\u001b[0m\u001b[0;34m.\u001b[0m\u001b[0mnll_loss\u001b[0m\u001b[0;34m(\u001b[0m\u001b[0minput\u001b[0m\u001b[0;34m,\u001b[0m \u001b[0mtarget\u001b[0m\u001b[0;34m,\u001b[0m \u001b[0mweight\u001b[0m\u001b[0;34m,\u001b[0m \u001b[0m_Reduction\u001b[0m\u001b[0;34m.\u001b[0m\u001b[0mget_enum\u001b[0m\u001b[0;34m(\u001b[0m\u001b[0mreduction\u001b[0m\u001b[0;34m)\u001b[0m\u001b[0;34m,\u001b[0m \u001b[0mignore_index\u001b[0m\u001b[0;34m)\u001b[0m\u001b[0;34m\u001b[0m\u001b[0m\n\u001b[1;32m   1408\u001b[0m     \u001b[0;32melif\u001b[0m \u001b[0mdim\u001b[0m \u001b[0;34m==\u001b[0m \u001b[0;36m4\u001b[0m\u001b[0;34m:\u001b[0m\u001b[0;34m\u001b[0m\u001b[0m\n\u001b[0;32m-> 1409\u001b[0;31m         \u001b[0;32mreturn\u001b[0m \u001b[0mtorch\u001b[0m\u001b[0;34m.\u001b[0m\u001b[0m_C\u001b[0m\u001b[0;34m.\u001b[0m\u001b[0m_nn\u001b[0m\u001b[0;34m.\u001b[0m\u001b[0mnll_loss2d\u001b[0m\u001b[0;34m(\u001b[0m\u001b[0minput\u001b[0m\u001b[0;34m,\u001b[0m \u001b[0mtarget\u001b[0m\u001b[0;34m,\u001b[0m \u001b[0mweight\u001b[0m\u001b[0;34m,\u001b[0m \u001b[0m_Reduction\u001b[0m\u001b[0;34m.\u001b[0m\u001b[0mget_enum\u001b[0m\u001b[0;34m(\u001b[0m\u001b[0mreduction\u001b[0m\u001b[0;34m)\u001b[0m\u001b[0;34m,\u001b[0m \u001b[0mignore_index\u001b[0m\u001b[0;34m)\u001b[0m\u001b[0;34m\u001b[0m\u001b[0m\n\u001b[0m\u001b[1;32m   1410\u001b[0m     \u001b[0;32melif\u001b[0m \u001b[0mdim\u001b[0m \u001b[0;34m==\u001b[0m \u001b[0;36m3\u001b[0m \u001b[0;32mor\u001b[0m \u001b[0mdim\u001b[0m \u001b[0;34m>\u001b[0m \u001b[0;36m4\u001b[0m\u001b[0;34m:\u001b[0m\u001b[0;34m\u001b[0m\u001b[0m\n\u001b[1;32m   1411\u001b[0m         \u001b[0mn\u001b[0m \u001b[0;34m=\u001b[0m \u001b[0minput\u001b[0m\u001b[0;34m.\u001b[0m\u001b[0msize\u001b[0m\u001b[0;34m(\u001b[0m\u001b[0;36m0\u001b[0m\u001b[0;34m)\u001b[0m\u001b[0;34m\u001b[0m\u001b[0m\n",
            "\u001b[0;31mRuntimeError\u001b[0m: 1only batches of spatial targets supported (non-empty 3D tensors) but got targets of size: : [64]"
          ]
        }
      ]
    },
    {
      "metadata": {
        "id": "_UNQ8VtJF4Y_",
        "colab_type": "text"
      },
      "cell_type": "markdown",
      "source": [
        "# RNN Character Level Generation\n",
        "\n",
        "Text generation is a fun way to familiarize yourself with Recurrent Neural Nets.\n",
        "\n",
        "In this notebook, we will deal with **character-level** text generation and why they can be just as useful as word-level text generation.\n",
        "\n",
        "For this example, we'll be using text files to generate code similar to our input. In other words, if we put in Trump tweets, our generator should output words that sound like Trump.\n",
        "\n",
        "### Our current understanding of RNNs\n",
        "![](https://github.com/robert-alvarez/pytorch_tutorial/blob/master/img/LSTM_next_character.png?raw=1)\n",
        "\n",
        "\n",
        "### Reminder\n",
        "\n",
        "![](https://github.com/robert-alvarez/pytorch_tutorial/blob/master/img/rnn_unrolling.png?raw=1)\n",
        "\n",
        "#### \"RNNs have a hidden state that feeds back into the cell at the next time step\""
      ]
    },
    {
      "metadata": {
        "id": "MeZxm4-BF4Y_",
        "colab_type": "text"
      },
      "cell_type": "markdown",
      "source": [
        "## What is actually going on?\n",
        "\n",
        "### Example with sequence length 5"
      ]
    },
    {
      "metadata": {
        "id": "_HjBLEItF4ZA",
        "colab_type": "text"
      },
      "cell_type": "markdown",
      "source": [
        "![](https://github.com/robert-alvarez/pytorch_tutorial/blob/master/img/rnn_forward.png?raw=1)"
      ]
    },
    {
      "metadata": {
        "id": "gvVair50F4ZB",
        "colab_type": "text"
      },
      "cell_type": "markdown",
      "source": [
        "### What about the backwards pass?"
      ]
    },
    {
      "metadata": {
        "id": "3KYrgK6qF4ZB",
        "colab_type": "text"
      },
      "cell_type": "markdown",
      "source": [
        "![](https://github.com/robert-alvarez/pytorch_tutorial/blob/master/img/rnn_backward.png?raw=1)"
      ]
    },
    {
      "metadata": {
        "id": "gGYp56Y2F4ZB",
        "colab_type": "text"
      },
      "cell_type": "markdown",
      "source": [
        "## Preprocessing"
      ]
    },
    {
      "metadata": {
        "id": "nqB7a5W0F4ZC",
        "colab_type": "code",
        "colab": {}
      },
      "cell_type": "code",
      "source": [
        "# Read in text and change unicode characters to ASCII\n",
        "import unidecode\n",
        "import string\n",
        "import random\n",
        "import re\n",
        "\n",
        "all_characters = string.printable\n",
        "n_characters = len(all_characters)"
      ],
      "execution_count": 0,
      "outputs": []
    },
    {
      "metadata": {
        "id": "LOAv4579F4ZD",
        "colab_type": "code",
        "colab": {}
      },
      "cell_type": "code",
      "source": [
        "# read in file to train RNN\n",
        "file = unidecode.unidecode(open('data/shakespeare.txt').read())\n",
        "file_len = len(file)\n",
        "print(f'file_len = {file_len}')"
      ],
      "execution_count": 0,
      "outputs": []
    },
    {
      "metadata": {
        "id": "Y2Jebi1VF4ZE",
        "colab_type": "text"
      },
      "cell_type": "markdown",
      "source": [
        "To give our model inputs from this large string of text, we'll split it up into chunks"
      ]
    },
    {
      "metadata": {
        "id": "buHr4NfgF4ZF",
        "colab_type": "code",
        "colab": {}
      },
      "cell_type": "code",
      "source": [
        "chunk_len = 400\n",
        "\n",
        "def random_chunk():\n",
        "    start_index = random.randint(0, file_len - chunk_len)\n",
        "    end_index = start_index + chunk_len + 1\n",
        "    return file[start_index:end_index]\n",
        "\n",
        "print(random_chunk())"
      ],
      "execution_count": 0,
      "outputs": []
    },
    {
      "metadata": {
        "id": "p0PqUm6rF4ZF",
        "colab_type": "text"
      },
      "cell_type": "markdown",
      "source": [
        "## Build Model\n",
        "\n",
        "This model will take as input the character for step $t$ and is expected to output the next character for step $t+1$. There are three layers - one linear layer that encodes the input character into an internal state, one GRU layer (which may itself have multiple layers) that operates on that internal state and a hidden state, and a decoder layer that outputs the probability distribution."
      ]
    },
    {
      "metadata": {
        "id": "VORlSDknF4ZG",
        "colab_type": "code",
        "colab": {}
      },
      "cell_type": "code",
      "source": [
        "class RNN(nn.Module):\n",
        "    def __init__(self, input_size, hidden_size, output_size, n_layers=1):\n",
        "        super(RNN, self).__init__()\n",
        "        self.input_size = input_size\n",
        "        self.hidden_size = hidden_size\n",
        "        self.output_size = output_size\n",
        "        self.n_layers = n_layers\n",
        "        \n",
        "        self.encoder = nn.Embedding(input_size, hidden_size)\n",
        "        self.gru = nn.GRU(hidden_size, hidden_size, n_layers)\n",
        "        self.decoder = nn.Linear(hidden_size, output_size)\n",
        "        \n",
        "    def forward(self, input, hidden):\n",
        "        output = self.encoder(input.view(1, -1))\n",
        "        output, hidden = self.gru(output.view(1, 1, -1), hidden)\n",
        "        output = self.decoder(output.view(1, -1))\n",
        "        \n",
        "        return output, hidden\n",
        "    \n",
        "    def init_hidden(self):\n",
        "        return Variable(torch.randn(self.n_layers, 1, self.hidden_size))"
      ],
      "execution_count": 0,
      "outputs": []
    },
    {
      "metadata": {
        "id": "icUE_-_gF4ZI",
        "colab_type": "text"
      },
      "cell_type": "markdown",
      "source": [
        "## Inputs and Targets\n",
        "\n",
        "Now that we've defined our model, we need to give it both input data, via our chunks, and our target data. Each character is one-hot encoded to the vocab size "
      ]
    },
    {
      "metadata": {
        "id": "R0q-xETXF4ZI",
        "colab_type": "code",
        "colab": {}
      },
      "cell_type": "code",
      "source": [
        "def char2tensor(string):\n",
        "    tensor = torch.zeros(len(string)).long()\n",
        "    for char in range(len(string)):\n",
        "        if string[char] in all_characters:\n",
        "            tensor[char] = all_characters.index(string[char])\n",
        "        else:\n",
        "            tensor[char] = 94 #predict space if character unknown\n",
        "        \n",
        "    return Variable(tensor)\n",
        "\n",
        "# Let's see it in action.\n",
        "print(char2tensor('Metis0123abczABC'))"
      ],
      "execution_count": 0,
      "outputs": []
    },
    {
      "metadata": {
        "id": "VhCXFimFF4ZJ",
        "colab_type": "text"
      },
      "cell_type": "markdown",
      "source": [
        "Now that we can generate chunks of data, we can build our inputs and targets.\n",
        "\n",
        "Our inputs will be all of the chunk except for the last letter. \n",
        "\n",
        "Our target will be all of the chunk except for the first letter."
      ]
    },
    {
      "metadata": {
        "id": "RIRu39y1F4ZJ",
        "colab_type": "code",
        "colab": {}
      },
      "cell_type": "code",
      "source": [
        "def random_training_set():\n",
        "    chunk = random_chunk()\n",
        "    inp = char2tensor(chunk[:-1])\n",
        "    target = char2tensor(chunk[1:])\n",
        "    return inp, target"
      ],
      "execution_count": 0,
      "outputs": []
    },
    {
      "metadata": {
        "id": "hD4E1iZHF4ZM",
        "colab_type": "text"
      },
      "cell_type": "markdown",
      "source": [
        "## Evaluating the Model\n",
        "\n",
        "To evaluate the network we will feed one character at a time, use the outputs of the network as a probability distribution for the next character, and repeat. To start generation we pass a priming string to start building up the hidden state, from which we then generate one character at a time."
      ]
    },
    {
      "metadata": {
        "id": "dYbhKGTiF4ZM",
        "colab_type": "code",
        "colab": {}
      },
      "cell_type": "code",
      "source": [
        "def evaluate(model, prime_str='A', predict_len=100, temperature=0.8):\n",
        "    \n",
        "    hidden = model.init_hidden()\n",
        "    prime_input = char2tensor(prime_str)\n",
        "    predicted = prime_str\n",
        "    \n",
        "    # use priming string to build up hidden state\n",
        "    \n",
        "    for p in range(len(prime_str) - 1):\n",
        "        _, hidden = model(prime_input[p], hidden)\n",
        "    inp = prime_input[-1]\n",
        "    \n",
        "    for p in range(predict_len):\n",
        "        output, hidden = model(inp, hidden)\n",
        "        \n",
        "        # Sample from the network as a multinomial distribution\n",
        "        output_dist = output.data.view(-1).div(temperature).exp()\n",
        "        top_i = torch.multinomial(output_dist, 1)[0]\n",
        "        \n",
        "        # Add predicted character to string and use as next input\n",
        "        predicted_char = all_characters[top_i]\n",
        "        predicted += predicted_char\n",
        "        inp = char2tensor(predicted_char)\n",
        "        \n",
        "    return predicted"
      ],
      "execution_count": 0,
      "outputs": []
    },
    {
      "metadata": {
        "id": "oM2YQ-o-F4ZN",
        "colab_type": "text"
      },
      "cell_type": "markdown",
      "source": [
        "## Training"
      ]
    },
    {
      "metadata": {
        "id": "BkLoYYw3F4ZO",
        "colab_type": "code",
        "colab": {}
      },
      "cell_type": "code",
      "source": [
        "# helper function\n",
        "import time, math\n",
        "\n",
        "def time_since(since):\n",
        "    s = time.time() - since\n",
        "    m = math.floor(s/60)\n",
        "    s -= m*60\n",
        "    return '%dm %ds' % (m, s)"
      ],
      "execution_count": 0,
      "outputs": []
    },
    {
      "metadata": {
        "id": "1eva3iw9F4ZO",
        "colab_type": "code",
        "colab": {}
      },
      "cell_type": "code",
      "source": [
        "# The actual training part\n",
        "def train(inp, target):\n",
        "    hidden = model.init_hidden()\n",
        "    model.zero_grad()\n",
        "    loss = 0\n",
        "\n",
        "    for char in range(chunk_len):\n",
        "        output, hidden = model(inp[char], hidden)\n",
        "        loss += criterion(output, target[char].unsqueeze(0))\n",
        "\n",
        "    loss.backward()\n",
        "    model_optimizer.step()\n",
        "\n",
        "    return loss.data.item() / chunk_len"
      ],
      "execution_count": 0,
      "outputs": []
    },
    {
      "metadata": {
        "id": "77Y4AahDF4ZP",
        "colab_type": "code",
        "colab": {}
      },
      "cell_type": "code",
      "source": [
        "# parameters\n",
        "n_epochs = 1000\n",
        "print_every = 100\n",
        "plot_every = 10\n",
        "hidden_size = 256\n",
        "n_layers = 2\n",
        "learning_rate = 0.001\n",
        "\n",
        "# model declaration\n",
        "model = RNN(n_characters, hidden_size, n_characters, n_layers)\n",
        "model_optimizer = torch.optim.Adam(model.parameters(), lr=learning_rate)\n",
        "criterion = nn.CrossEntropyLoss()\n",
        "\n",
        "start = time.time()\n",
        "all_losses = []\n",
        "loss_avg = 0\n",
        "\n",
        "for epoch in range(1, n_epochs + 1):\n",
        "    loss = train(*random_training_set())       \n",
        "    loss_avg += loss\n",
        "\n",
        "    if epoch % print_every == 0:\n",
        "        print('[%s (%d %d%%) %.4f]' % (time_since(start), epoch, epoch / n_epochs * 100, loss))\n",
        "        print(evaluate(model, 'A ', 100), '\\n')\n",
        "\n",
        "    if epoch % plot_every == 0:\n",
        "        all_losses.append(loss_avg / plot_every)\n",
        "        loss_avg = 0"
      ],
      "execution_count": 0,
      "outputs": []
    },
    {
      "metadata": {
        "id": "0oeWLjSuF4ZR",
        "colab_type": "code",
        "colab": {}
      },
      "cell_type": "code",
      "source": [
        "import matplotlib.pyplot as plt\n",
        "import matplotlib.ticker as ticker\n",
        "%matplotlib inline\n",
        "\n",
        "plt.figure()\n",
        "plt.plot(all_losses)"
      ],
      "execution_count": 0,
      "outputs": []
    },
    {
      "metadata": {
        "id": "CMYZ3nbaF4ZS",
        "colab_type": "text"
      },
      "cell_type": "markdown",
      "source": [
        "### Load pre-trained models"
      ]
    },
    {
      "metadata": {
        "id": "KNLpcqkOF4ZS",
        "colab_type": "code",
        "colab": {}
      },
      "cell_type": "code",
      "source": [
        "trump = torch.load('data/potus.pt')\n",
        "# billy = torch.load('models/shakespeare.pt')"
      ],
      "execution_count": 0,
      "outputs": []
    },
    {
      "metadata": {
        "id": "SLeBUPl_F4ZT",
        "colab_type": "code",
        "colab": {}
      },
      "cell_type": "code",
      "source": [
        "# Evaluate Trump\n",
        "print(evaluate(trump, 'Mueller Witch Hunt! ', predict_len=140, temperature=0.7))"
      ],
      "execution_count": 0,
      "outputs": []
    },
    {
      "metadata": {
        "id": "1hWJvpyhF4ZU",
        "colab_type": "code",
        "colab": {}
      },
      "cell_type": "code",
      "source": [
        "# Evaluate Billy Shakespeare\n",
        "print(evaluate(billy, 'To be or not to be: ', predict_len=200, temperature=0.5))"
      ],
      "execution_count": 0,
      "outputs": []
    },
    {
      "metadata": {
        "id": "HXmPBU8mF4ZX",
        "colab_type": "text"
      },
      "cell_type": "markdown",
      "source": [
        "# Resources\n",
        "\n",
        "[tensor images](https://hackernoon.com/learning-ai-if-you-suck-at-math-p4-tensors-illustrated-with-cats-27f0002c9b32)\n",
        "\n",
        "[alien vs predator](https://deepsense.ai/keras-vs-pytorch-avp-transfer-learning/)\n",
        "\n",
        "[unreasonable reffectiveness of neural nets](http://karpathy.github.io/2015/05/21/rnn-effectiveness/)\n",
        "\n",
        "[pytorch.org](https://pytorch.org/tutorials/beginner/deep_learning_60min_blitz.html)\n",
        "\n",
        "[Richard Galvez](https://richardagalvez.github.io/)\n"
      ]
    },
    {
      "metadata": {
        "id": "sVrzmqAPF4ZY",
        "colab_type": "code",
        "colab": {}
      },
      "cell_type": "code",
      "source": [
        ""
      ],
      "execution_count": 0,
      "outputs": []
    }
  ]
}